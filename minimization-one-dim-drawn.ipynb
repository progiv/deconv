{
 "cells": [
  {
   "cell_type": "markdown",
   "metadata": {},
   "source": [
    "# Одномерная минимизация криловлинейной psf.\n",
    "* поиск дальней точки через кепстр\n",
    "* начальное приближение - полный перебор на срединном перпендикуляре\n",
    "* уточнение одним из (стандартных) алгоритмов\n",
    "<img src=\"pic/minimization_ill.png\">\n",
    "\n",
    "Время работы: 2:24"
   ]
  },
  {
   "cell_type": "code",
   "execution_count": null,
   "metadata": {},
   "outputs": [],
   "source": [
    "import numpy as np\n",
    "from skimage import color, data, img_as_float, io\n",
    "#from skimage.restoration import richardson_lucy\n",
    "from skimage.measure import compare_psnr\n",
    "\n",
    "from scipy.signal import convolve2d\n",
    "from scipy.optimize import minimize\n",
    "\n",
    "from functools import partial\n",
    "from tqdm import tqdm_notebook\n",
    "\n",
    "import os.path\n",
    "import pickle\n",
    "\n",
    "from util import *\n",
    "from richardson_lucy import *"
   ]
  },
  {
   "cell_type": "code",
   "execution_count": null,
   "metadata": {},
   "outputs": [],
   "source": [
    "prefix = 'pic/one-dim-drawn-lifting'"
   ]
  },
  {
   "cell_type": "code",
   "execution_count": null,
   "metadata": {},
   "outputs": [],
   "source": [
    "#astro = color.rgb2gray(data.astronaut())\n",
    "liftingbody = img_as_float(io.imread('liftingbody.png'))\n",
    "iterations = 30"
   ]
  },
  {
   "cell_type": "code",
   "execution_count": null,
   "metadata": {},
   "outputs": [],
   "source": [
    "psf_drawn = img_as_float(io.imread(\"input/drawn-psf3.bmp\"))\n",
    "if len(psf_drawn.shape) == 3:\n",
    "    psf_drawn = psf_drawn[:,:,0]\n",
    "psf_drawn /= np.sum(psf_drawn)"
   ]
  },
  {
   "cell_type": "code",
   "execution_count": null,
   "metadata": {},
   "outputs": [],
   "source": [
    "lifting_drawn_blurred = convolve2d(liftingbody, psf_drawn, 'same', 'wrap')#fillvalue=np.mean(liftingbody))\n",
    "lifting_drawn_blurred = edgetaper(lifting_drawn_blurred, gkern2(60, 9))"
   ]
  },
  {
   "cell_type": "code",
   "execution_count": null,
   "metadata": {},
   "outputs": [],
   "source": [
    "deconv_orig = richardson_lucy_matlab(lifting_drawn_blurred, psf_drawn, iterations=iterations)#dampar=s_n, "
   ]
  },
  {
   "cell_type": "code",
   "execution_count": null,
   "metadata": {},
   "outputs": [],
   "source": [
    "psnr_orig = compare_psnr_crop(liftingbody, deconv_orig['image'])\n",
    "print(psnr_orig)"
   ]
  },
  {
   "cell_type": "code",
   "execution_count": null,
   "metadata": {},
   "outputs": [],
   "source": [
    "plt.figure(figsize=(10,10))\n",
    "plt.imshow(lifting_drawn_blurred, 'gray')\n",
    "plt.show()"
   ]
  },
  {
   "cell_type": "code",
   "execution_count": null,
   "metadata": {},
   "outputs": [],
   "source": [
    "show_results(psf_drawn, lifting_drawn_blurred, deconv_orig['image'],\n",
    "            titles=['drawn psf', 'blurred data', 'restored with true psf\\nPSNR={0}'.format(psnr_orig)])"
   ]
  },
  {
   "cell_type": "code",
   "execution_count": null,
   "metadata": {},
   "outputs": [],
   "source": [
    "for image, title in [[lifting_drawn_blurred, '{0}-blurred.png'.format(prefix)]]:\n",
    "    show_and_save_image(image, fname=title)"
   ]
  },
  {
   "cell_type": "code",
   "execution_count": null,
   "metadata": {},
   "outputs": [],
   "source": [
    "psf_drawn.shape"
   ]
  },
  {
   "cell_type": "code",
   "execution_count": null,
   "metadata": {},
   "outputs": [],
   "source": [
    "s_n, S_find = find_noise(lifting_drawn_blurred)\n",
    "s_n"
   ]
  },
  {
   "cell_type": "code",
   "execution_count": null,
   "metadata": {},
   "outputs": [],
   "source": [
    "N,M = lifting_drawn_blurred.shape\n",
    "# ( ifft2 (100* log (1+ abs ( fft2 ( I ) ) ) ) ) ;\n",
    "K = np.fft.ifftn(100*np.log(1+np.abs(np.fft.fftn(lifting_drawn_blurred))))\n",
    "K_shift = np.fft.fftshift(K)\n",
    "\n",
    "n, m, = K_shift.shape\n",
    "\n",
    "#masksize = 10\n",
    "K_shift[:, m//2] = 1\n",
    "K_shift[n//2, :] = 1\n",
    "#K_shift[n//2-masksize:n//2+masksize+1, m//2-masksize:m//2+masksize+1] = 1\n",
    "mask_sigma = 2\n",
    "XX, YY = np.meshgrid(range(m), range(n))\n",
    "gauss_mask = np.exp(-((XX-m//2)**2 + (YY-n//2)**2) / (2*mask_sigma**2))\n",
    "K_shift -= K_shift*gauss_mask\n",
    "\n",
    "r, c = np.unravel_index(np.argmin(np.real(K_shift), axis=None), K_shift.shape)\n",
    "print(c,r)\n",
    "x0_2 = np.array([c - m//2, r - n//2])\n",
    "\n",
    "if x0_2[0]<0:\n",
    "    x0_2 = -x0_2\n",
    "x0_1 = x0_2/2# + np.array([4,-4])\n",
    "x0 = np.concatenate((x0_1, x0_2))\n",
    "print(x0)"
   ]
  },
  {
   "cell_type": "code",
   "execution_count": null,
   "metadata": {},
   "outputs": [],
   "source": [
    "plt.figure(figsize=(10,10))\n",
    "plt.imshow(np.clip(np.real(K_shift), -1, 1), 'gray')#, vmin=noisy.min(), vmax=noisy.max())\n",
    "#plt.plot(n//2 + x0_2[1], m//2 + x0_2[0], 'r.')\n",
    "plt.plot(c, r, 'r.')\n",
    "plt.title('Кепстр изображения с добавлением гауссианы и выделенным минмиумом')\n",
    "plt.show()"
   ]
  },
  {
   "cell_type": "code",
   "execution_count": null,
   "metadata": {},
   "outputs": [],
   "source": [
    "K_shift[r,c]"
   ]
  },
  {
   "cell_type": "code",
   "execution_count": null,
   "metadata": {},
   "outputs": [],
   "source": [
    "x1_vec = np.array([x0_2[1], -x0_2[0]])\n",
    "x1_vec = x1_vec / vec_len(x1_vec)\n",
    "print(x1_vec)"
   ]
  },
  {
   "cell_type": "code",
   "execution_count": null,
   "metadata": {},
   "outputs": [],
   "source": [
    "f = partial(funcToMinimizeCurved2, xy2=x0_2, I_blurred=lifting_drawn_blurred, \n",
    "            iterations=iterations, dampar=s_n)"
   ]
  },
  {
   "cell_type": "code",
   "execution_count": null,
   "metadata": {},
   "outputs": [],
   "source": [
    "pickle_filename = \"one-dim-drawn-matrix4.pickle\".format(prefix)\n",
    "shift = 10\n",
    "scale = 1\n",
    "if os.path.isfile(pickle_filename):\n",
    "    with open(pickle_filename, 'rb') as a_file:\n",
    "        a = pickle.load(a_file)\n",
    "else:\n",
    "    a = np.ones((scale*(x0_2[1]+shift), scale*x0_2[0]))\n",
    "    for yy in tqdm_notebook(range(scale*(x0_2[1]+shift))):\n",
    "        for xx in range(scale*x0_2[0]):\n",
    "            val = f(np.array([xx/scale,(yy-shift)/scale]))\n",
    "            print((yy-shift)/scale, xx/scale, val)\n",
    "            a[yy,xx] = val\n",
    "    with open(pickle_filename, 'wb') as a_file:\n",
    "        pickle.dump(a, a_file)"
   ]
  },
  {
   "cell_type": "code",
   "execution_count": null,
   "metadata": {},
   "outputs": [],
   "source": [
    "rr, cc= np.unravel_index(np.argmin(a, axis=None), a.shape)"
   ]
  },
  {
   "cell_type": "code",
   "execution_count": null,
   "metadata": {},
   "outputs": [],
   "source": [
    "show_and_save_image(a, fname=\"{0}-cost-function-grid.png\".format(prefix))"
   ]
  },
  {
   "cell_type": "markdown",
   "metadata": {
    "ExecuteTime": {
     "end_time": "2018-06-06T08:09:25.434173Z",
     "start_time": "2018-06-06T08:09:18.002Z"
    }
   },
   "source": [
    "plt.imshow(a)\n",
    "#plt.plot(cc, rr, \"ro\")\n",
    "plt.savefig(\"{0}-cost-function-grid.png\".format(prefix))\n",
    "plt.show()"
   ]
  },
  {
   "cell_type": "code",
   "execution_count": null,
   "metadata": {},
   "outputs": [],
   "source": [
    "cost_fun = partial(funcToMinimizeCurvedNormal, xy2=x0_2, I_blurred=lifting_drawn_blurred,\n",
    "                   iterations=iterations, dampar=s_n)"
   ]
  },
  {
   "cell_type": "code",
   "execution_count": null,
   "metadata": {},
   "outputs": [],
   "source": [
    "L = vec_len(x0_2)"
   ]
  },
  {
   "cell_type": "code",
   "execution_count": null,
   "metadata": {},
   "outputs": [],
   "source": [
    "distances = np.linspace(-L/2, L/2, 30)\n",
    "best_val = 1e9 #+inf\n",
    "best_dist = 0\n",
    "for dist in distances:\n",
    "    val = cost_fun(dist)\n",
    "    if val < best_val:\n",
    "        best_dist = dist\n",
    "        best_val = val"
   ]
  },
  {
   "cell_type": "code",
   "execution_count": null,
   "metadata": {},
   "outputs": [],
   "source": [
    "best_dist, best_val"
   ]
  },
  {
   "cell_type": "code",
   "execution_count": null,
   "metadata": {},
   "outputs": [],
   "source": [
    "point2 = second_point(x0_2, best_dist)\n",
    "points_found = np.concatenate((point2, x0_2))\n",
    "print(points_found)"
   ]
  },
  {
   "cell_type": "code",
   "execution_count": null,
   "metadata": {},
   "outputs": [],
   "source": [
    "deconv_orig = richardson_lucy_matlab(lifting_drawn_blurred, psf_drawn, iterations=iterations, \n",
    "                                     dampar=s_n)\n",
    "psnr_orig = compare_psnr_crop(liftingbody, deconv_orig['image'])\n",
    "\n",
    "psf_init = bezier_psf2(x0)\n",
    "deconv_init = richardson_lucy_matlab(lifting_drawn_blurred, psf_init, iterations=iterations, \n",
    "                                     dampar=s_n)\n",
    "psnr_init = compare_psnr_crop(liftingbody, deconv_init['image'])\n",
    "\n",
    "#points_found = res_my_grad2['x']\n",
    "psf_found = bezier_psf2(points_found)\n",
    "deconv_found = richardson_lucy_matlab(lifting_drawn_blurred, psf_found, iterations=iterations, \n",
    "                                      dampar=s_n)\n",
    "psnr_found = compare_psnr_crop(liftingbody, deconv_found['image'])\n",
    "\n",
    "show_results(deconv_orig['image'], deconv_init['image'], deconv_found['image'],\n",
    "             titles=['Restored with true psf\\nPSNR={0}\\ncoord=?'.format(psnr_orig.round(2)), \n",
    "                     'With initial approxiamtion\\nPSNR={0}\\ncoord={1}'.format(psnr_init.round(2), x0.round(4)),\n",
    "                     'Minimized error\\nPSNR={0}\\ncoord={1}'.format(psnr_found.round(2), points_found.round(4))],\n",
    "            )#savefig='{0}.png'.format(prefix))"
   ]
  },
  {
   "cell_type": "code",
   "execution_count": null,
   "metadata": {},
   "outputs": [],
   "source": [
    "for image, title in [[deconv_orig['image'], '{0}-restored-true-psf.png'.format(prefix)],\n",
    "                     [deconv_init['image'], '{0}-restored-initial-approx.png'.format(prefix)],\n",
    "                     [deconv_found['image'], '{0}-restored-second-approx.png'.format(prefix)]]:\n",
    "    show_and_save_image(image, fname=title)"
   ]
  },
  {
   "cell_type": "markdown",
   "metadata": {
    "ExecuteTime": {
     "end_time": "2018-06-04T21:05:30.807246Z",
     "start_time": "2018-06-04T20:59:18.295821Z"
    }
   },
   "source": [
    "res_nelder = minimize(partial(funcToMinimizeCurved, I_blurred=lifting_drawn_blurred, \n",
    "                              iterations=iterations, dampar=s_n),\n",
    "                      x0=points_found, method='Nelder-Mead', options={'xatol': 1e-4, 'disp': True})\n",
    "print(res_nelder)"
   ]
  },
  {
   "cell_type": "code",
   "execution_count": null,
   "metadata": {},
   "outputs": [],
   "source": [
    "x1_1 = point2\n",
    "x1_2 = x0_2\n",
    "for it in range(10):\n",
    "    changed = False\n",
    "    # move third point\n",
    "    cost_fun1 = partial(funcToMinimizeCurved3, xy1=x1_1, I_blurred=lifting_drawn_blurred, \n",
    "                        iterations=iterations, dampar=s_n)\n",
    "    res1 = minimize_grad(cost_fun1, x0=x1_2, alpha=1000, maxiter=5)\n",
    "    if not (x1_2 == res1.x).all():\n",
    "        changed = True\n",
    "    x1_2 = res1.x\n",
    "    print(x1_1, x1_2)\n",
    "    cost_fun2 = partial(funcToMinimizeCurved2, xy2=x1_2, I_blurred=lifting_drawn_blurred, \n",
    "                        iterations=iterations, dampar=s_n)\n",
    "    res2 = minimize_grad(cost_fun2, x0=x1_1, alpha=1000, maxiter=5)\n",
    "    if not (x1_1 == res2.x).all():\n",
    "        changed = True\n",
    "    x1_1 = res2.x\n",
    "    print(x1_1, x1_2)\n",
    "    if not changed:\n",
    "        break"
   ]
  },
  {
   "cell_type": "code",
   "execution_count": null,
   "metadata": {},
   "outputs": [],
   "source": [
    "# deconv_orig = richardson_lucy_matlab(lifting_drawn_blurred, psf_drawn, iterations=iterations, \n",
    "#                                      dampar=s_n)\n",
    "# psnr_orig = compare_psnr_crop(liftingbody, deconv_orig['image'])\n",
    "\n",
    "psf_init = bezier_psf2(points_found)\n",
    "deconv_init = richardson_lucy_matlab(lifting_drawn_blurred, psf_init, iterations=iterations, \n",
    "                                     dampar=s_n)\n",
    "psnr_init = compare_psnr_crop(liftingbody, deconv_init['image'])\n",
    "\n",
    "points_found2 = np.concatenate((x1_1, x1_2))\n",
    "psf_found = bezier_psf2(points_found2)\n",
    "deconv_found = richardson_lucy_matlab(lifting_drawn_blurred, psf_found, iterations=iterations, \n",
    "                                      dampar=s_n)\n",
    "psnr_found = compare_psnr_crop(liftingbody, deconv_found['image'])\n",
    "\n",
    "show_results(deconv_orig['image'], deconv_init['image'], deconv_found['image'],\n",
    "             titles=['Restored with true psf\\nPSNR={0}\\ncoord=?'.format(psnr_orig.round(2)), \n",
    "                     'With one-dimensional search\\nPSNR={0}\\ncoord={1}'.format(psnr_init.round(2), points_found.round(4)),\n",
    "                     'Minimized error\\nPSNR={0}\\ncoord={1}'.format(psnr_found.round(2), points_found2.round(4))],\n",
    "            )#savefig='{0}-thiner.png'.format(prefix))"
   ]
  },
  {
   "cell_type": "code",
   "execution_count": null,
   "metadata": {},
   "outputs": [],
   "source": [
    "for image, title in [[deconv_found['image'], '{0}-restored-final.png'.format(prefix)]]:\n",
    "    show_and_save_image(image, fname=title)"
   ]
  },
  {
   "cell_type": "code",
   "execution_count": null,
   "metadata": {},
   "outputs": [],
   "source": [
    "plt.imshow(psf_drawn)\n",
    "plt.plot(points_found2[0], points_found2[1], 'ro')\n",
    "plt.plot(points_found[0], points_found[1], 'go')\n",
    "plt.plot(points_found[2], points_found[3], 'go')\n",
    "plt.show()"
   ]
  },
  {
   "cell_type": "code",
   "execution_count": null,
   "metadata": {},
   "outputs": [],
   "source": [
    "show_and_save_image(psf_found, fname=\"{0}-psf-found\".format(prefix))"
   ]
  }
 ],
 "metadata": {
  "kernelspec": {
   "display_name": "Python 3",
   "language": "python",
   "name": "python3"
  },
  "language_info": {
   "codemirror_mode": {
    "name": "ipython",
    "version": 3
   },
   "file_extension": ".py",
   "mimetype": "text/x-python",
   "name": "python",
   "nbconvert_exporter": "python",
   "pygments_lexer": "ipython3",
   "version": "3.6.5"
  },
  "toc": {
   "nav_menu": {},
   "number_sections": true,
   "sideBar": true,
   "skip_h1_title": false,
   "toc_cell": false,
   "toc_position": {},
   "toc_section_display": "block",
   "toc_window_display": false
  }
 },
 "nbformat": 4,
 "nbformat_minor": 2
}

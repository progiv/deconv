{
 "cells": [
  {
   "cell_type": "markdown",
   "metadata": {},
   "source": [
    "# Оценка линейного искажающего оператора в задаче восстановления изображений"
   ]
  },
  {
   "cell_type": "code",
   "execution_count": null,
   "metadata": {},
   "outputs": [],
   "source": [
    "import numpy as np\n",
    "from skimage import color, data, restoration, img_as_float, io\n",
    "# import matplotlib.pyplot as plt\n",
    "from scipy.signal import convolve2d as conv2\n",
    "\n",
    "# from skimage import color, data, restoration\n",
    "# from skimage.restoration import uft\n",
    "# from scipy.signal import fftconvolve, convolve, convolve2d\n",
    "# from scipy.stats.stats import pearsonr\n",
    "# from numpy.fft import fftn, ifftn\n",
    "# from skimage.measure import compare_psnr\n",
    "# from skimage.draw import bezier_curve\n",
    "# import scipy.ndimage.filters as fi\n",
    "# from itertools import chain\n",
    "# from skimage.draw import line_aa\n",
    "# from math import sin, cos, pi\n",
    "from functools import partial\n",
    "from scipy.optimize import minimize\n",
    "\n",
    "from util import *\n",
    "from richardson_lucy import *"
   ]
  },
  {
   "cell_type": "code",
   "execution_count": null,
   "metadata": {},
   "outputs": [],
   "source": [
    "#interactive graphics\n",
    "#%matplotlib notebook"
   ]
  },
  {
   "cell_type": "code",
   "execution_count": null,
   "metadata": {},
   "outputs": [],
   "source": [
    "# Prepare data\n",
    "sz = 11\n",
    "astro = color.rgb2gray(data.astronaut())\n",
    "\n",
    "psf = np.ones((sz, sz)) / (sz*sz)\n",
    "astro_noisy = conv2(astro, psf, 'same')\n",
    "# Add Noise to Image\n",
    "#astro_noisy += (np.random.poisson(lam=25, size=astro.shape) - 10) / 255."
   ]
  },
  {
   "cell_type": "code",
   "execution_count": null,
   "metadata": {},
   "outputs": [],
   "source": [
    "g = gkern2(100,20)\n",
    "plt.imshow(g, 'gray')\n",
    "plt.show()"
   ]
  },
  {
   "cell_type": "code",
   "execution_count": null,
   "metadata": {},
   "outputs": [],
   "source": [
    "taperPSF = gkern2(60, 30)\n",
    "astro_noisy2 = edgetaper(astro, taperPSF)\n",
    "#plt.figure(figsize=(10,10))\n",
    "plt.imshow(astro_noisy2, 'gray')\n",
    "plt.show()"
   ]
  },
  {
   "cell_type": "code",
   "execution_count": null,
   "metadata": {},
   "outputs": [],
   "source": [
    "# Restore Image using Richardson-Lucy algorithm:\n",
    "iterations = 7\n",
    "taperPSF = gkern2(60, 30)\n",
    "astro_noisy2 = edgetaper(astro_noisy, taperPSF)\n",
    "deconv = richardson_lucy_matlab(astro_noisy2, psf, iterations=iterations, eps=1e-5)\n",
    "show_results(astro, astro_noisy, deconv['image'])\n",
    "plot_corr(iterations+1, [deconv['correlationX'], \n",
    "                         deconv['correlationY']])"
   ]
  },
  {
   "cell_type": "code",
   "execution_count": null,
   "metadata": {},
   "outputs": [],
   "source": [
    "liftingbody = img_as_float(io.imread('liftingbody.png'))\n",
    "lifting_blurred = conv2(liftingbody, psf, 'same')\n",
    "taper_psf = gkern2(60,30)\n",
    "lifting_blurred = edgetaper(lifting_blurred, taper_psf)"
   ]
  },
  {
   "cell_type": "code",
   "execution_count": null,
   "metadata": {},
   "outputs": [],
   "source": [
    "# Restore Image using Richardson-Lucy algorithm my:\n",
    "iterations = 40\n",
    "deconv = richardson_lucy_matlab(lifting_blurred, psf, iterations=iterations, eps=1e-5, useFFT=False)\n",
    "show_results(liftingbody, lifting_blurred, deconv['image'])\n",
    "plot_corr(iterations+1, [deconv['correlationX'], \n",
    "                         deconv['correlationY']])"
   ]
  },
  {
   "cell_type": "markdown",
   "metadata": {},
   "source": [
    "// matlab original for gen psf (curved line shift)\n",
    "```python\n",
    "def gen_psf():\n",
    "    p0 = np.random.randint(6, 25)\n",
    "    p1 = np.random.randint(6, 21)\n",
    "\n",
    "    x = np.random.randint(0, p0, (1,4))#sort(randi([0 p0], 1, 4));\n",
    "    y = np.random.randint(0, p1, (1,4))\n",
    "\n",
    "    pt1 = [x[0]; y[0]]\n",
    "    pt2 = [x[1]; y[1]]\n",
    "    pt3 = [x[2]; y[2]]\n",
    "    pt4 = [x[3]; y[3]]\n",
    "\n",
    "    t = list(range(0, p0+1))\n",
    "    pts = kron((1-t).^3,pt1) + kron(3*(1-t).^2.*t,pt2) + kron(3*(1-t).*t.^2,pt3) + kron(t.^3,pt4);\n",
    "    x1 = 1:p0;\n",
    "    y1 = round(pts(2, :));\n",
    "    y1 = y1 - min(y1) + 1;\n",
    "    %plot(x1,y1);\n",
    "    pp = max(y1);\n",
    "    PSF = zeros(p0, pp);\n",
    "\n",
    "    for ind_x = 1:length(x1)\n",
    "        yy = max(length(x1) - y1(ind_x), 1);\n",
    "        PSF(yy, ind_x) = rand();\n",
    "    end\n",
    "\n",
    "    PSF = PSF./(sum(PSF(:)) + eps*p0*p0);\n",
    "```"
   ]
  },
  {
   "cell_type": "markdown",
   "metadata": {},
   "source": [
    "## Криволинейный оператор смаза"
   ]
  },
  {
   "cell_type": "code",
   "execution_count": null,
   "metadata": {},
   "outputs": [],
   "source": [
    "psf = curved_psf()\n",
    "lifting_blurred = convolve2d(liftingbody, psf, 'same')"
   ]
  },
  {
   "cell_type": "code",
   "execution_count": null,
   "metadata": {},
   "outputs": [],
   "source": [
    "# Restore Image using Richardson-Lucy algorithm my:\n",
    "iterations = 3\n",
    "deconv = richardson_lucy_matlab(lifting_blurred, psf, iterations=iterations, eps=1e-5, useFFT=False, dampar=0.004225632509230561)\n",
    "deconv_py = restoration.richardson_lucy(lifting_blurred, psf, iterations=iterations)\n",
    "show_results(lifting_blurred, deconv_py, deconv['image'], titles=['Blurred data', 'Restoration using\\nRichardson-Lucy python', 'Restoration using\\nRichardson-Lucy my'])\n",
    "plot_corr(iterations+1, [deconv['correlationX'], \n",
    "                         deconv['correlationY']])"
   ]
  },
  {
   "cell_type": "markdown",
   "metadata": {},
   "source": [
    "## Линейный оператор смаза"
   ]
  },
  {
   "cell_type": "code",
   "execution_count": null,
   "metadata": {},
   "outputs": [],
   "source": [
    "np.round(motion_blur_psf_my(x=3,y=-4.5),3)"
   ]
  },
  {
   "cell_type": "code",
   "execution_count": null,
   "metadata": {},
   "outputs": [],
   "source": [
    "shift = 30\n",
    "psf = motion_blur_psf_my(shift, pi/3)\n",
    "lifting_blurred = conv2(liftingbody, psf, 'same')\n",
    "iterations = 12\n",
    "deconv = richardson_lucy_matlab(lifting_blurred, psf, iterations=iterations, eps=1e-5, clip=True, dampar=0.004)\n",
    "show_results(liftingbody, lifting_blurred, deconv['image'])\n",
    "plot_corr(iterations+1, [deconv['correlationX'], \n",
    "                         deconv['correlationY']])\n",
    "correlation_X = pearsonr(liftingbody.ravel('C')[:-1], liftingbody.ravel('C')[1:])\n",
    "correlation_Y = pearsonr(liftingbody.ravel('F')[:-1], liftingbody.ravel('F')[1:])\n",
    "print(correlation_X, correlation_Y)"
   ]
  },
  {
   "cell_type": "markdown",
   "metadata": {},
   "source": [
    "## Неверная psf"
   ]
  },
  {
   "cell_type": "code",
   "execution_count": null,
   "metadata": {},
   "outputs": [],
   "source": [
    "psf_wrong = motion_blur_psf(shift, pi/4)\n",
    "#iterations = 20\n",
    "deconv_wrong = richardson_lucy_matlab(lifting_blurred, psf_wrong, iterations=iterations, eps=1e-5)\n",
    "show_results(liftingbody, lifting_blurred, deconv_wrong['image'])\n",
    "plot_corr(iterations+1, [deconv['correlationX'], \n",
    "                         deconv['correlationY'],\n",
    "                         deconv_wrong['correlationX'],\n",
    "                         deconv_wrong['correlationY']], \n",
    "          legend=['row correlation', 'column correlation', 'row correlateion(wrong psf)', 'column correlation(wrong psf)'])"
   ]
  },
  {
   "cell_type": "markdown",
   "metadata": {},
   "source": [
    "## Использование параметра dampar"
   ]
  },
  {
   "cell_type": "code",
   "execution_count": null,
   "metadata": {},
   "outputs": [],
   "source": [
    "s_n, S_find = find_noise(liftingbody)\n",
    "s_n"
   ]
  },
  {
   "cell_type": "code",
   "execution_count": null,
   "metadata": {},
   "outputs": [],
   "source": [
    "psf = motion_blur_psf(shift, pi/4)\n",
    "x0_ref = [shift * np.cos(pi/4), shift * np.sin(pi/4)]\n",
    "lifting_blurred = conv2(liftingbody, psf, 'same')\n",
    "iterations = 30\n",
    "deconv = richardson_lucy_matlab(lifting_blurred, psf, iterations=iterations, eps=1e-5, clip=False, dampar=s_n, useFFT=True)\n",
    "show_results(liftingbody, lifting_blurred, deconv['image'])\n",
    "plot_corr(iterations+1, [deconv['correlationX'], \n",
    "                         deconv['correlationY']])"
   ]
  },
  {
   "cell_type": "markdown",
   "metadata": {},
   "source": [
    "### dampar и неверная psf"
   ]
  },
  {
   "cell_type": "code",
   "execution_count": null,
   "metadata": {},
   "outputs": [],
   "source": [
    "psf_wrong = motion_blur_psf_my(shift, pi/3)\n",
    "#iterations = 40\n",
    "deconv_wrong = richardson_lucy_matlab(lifting_blurred, psf_wrong, iterations=iterations, eps=1e-5, dampar=s_n)\n",
    "show_results(liftingbody, lifting_blurred, deconv_wrong['image'])\n",
    "plot_corr(iterations+1, [deconv['correlationX'], \n",
    "                         deconv['correlationY'],\n",
    "                         deconv_wrong['correlationX'],\n",
    "                         deconv_wrong['correlationY']], \n",
    "          legend=['row correlation', 'column correlation', 'row correlateion(wrong psf)', 'column correlation(wrong psf)'])"
   ]
  },
  {
   "cell_type": "markdown",
   "metadata": {},
   "source": [
    "```\n",
    "from mpl_toolkits.mplot3d import Axes3D\n",
    "import matplotlib.pyplot as plt\n",
    "from matplotlib import cm\n",
    "from matplotlib.ticker import LinearLocator, FormatStrFormatter\n",
    "\n",
    "\n",
    "w, h = lifting_blurred.shape\n",
    "x = np.arange(w)\n",
    "y = np.arange(h)\n",
    "X, Y = np.meshgrid(x, y)\n",
    "\n",
    "fig = plt.figure(figsize=(10,10))\n",
    "ax = fig.gca(projection='3d')\n",
    "# Plot the surface.\n",
    "surf = ax.plot_surface(X, Y, F, cmap=cm.coolwarm,\n",
    "                       linewidth=0, antialiased=False)\n",
    "\n",
    "# Customize the z axis.\n",
    "#ax.set_zlim(0, 1.01)\n",
    "#ax.zaxis.set_major_locator(LinearLocator(10))\n",
    "#ax.zaxis.set_major_formatter(FormatStrFormatter('%.02f'))\n",
    "\n",
    "# Add a color bar which maps values to colors.\n",
    "#fig.colorbar(surf, shrink=0.5, aspect=5)\n",
    "\n",
    "plt.show()\n",
    "```"
   ]
  },
  {
   "cell_type": "markdown",
   "metadata": {},
   "source": [
    "## Кепстр\n",
    "$$K = F^{-1}\\{log(1+\\left|F\\{I\\}\\right|)\\}$$"
   ]
  },
  {
   "cell_type": "code",
   "execution_count": null,
   "metadata": {},
   "outputs": [],
   "source": [
    "b_clip = 3\n",
    "N,M = lifting_blurred.shape\n",
    "# ( ifft2 (100* log (1+ abs ( fft2 ( I ) ) ) ) ) ;\n",
    "K = np.fft.ifftn(100*np.log(1+np.abs(np.fft.fftn(lifting_blurred))))#[b_clip:N//2,b_clip:M//2]\n",
    "K_shift = np.fft.fftshift(K)\n",
    "#K = gaussian(np.abs(K), 1)\n",
    "\n",
    "#mask = np.ones((N, M))\n",
    "#mask[1:3, 1:3] = 0\n",
    "#K *= mask"
   ]
  },
  {
   "cell_type": "code",
   "execution_count": null,
   "metadata": {},
   "outputs": [],
   "source": [
    "#%matplotlib notebook\n",
    "from mpl_toolkits.mplot3d import Axes3D\n",
    "import matplotlib.pyplot as plt\n",
    "from matplotlib import cm\n",
    "from matplotlib.ticker import LinearLocator, FormatStrFormatter\n",
    "\n",
    "\n",
    "h, w = K.shape\n",
    "x = np.arange(w)\n",
    "y = np.arange(h)\n",
    "X, Y = np.meshgrid(x, y)\n",
    "print(X.shape, Y.shape)\n",
    "fig = plt.figure(figsize=(10,10))\n",
    "ax = fig.gca(projection='3d')\n",
    "# Plot the surface.\n",
    "H = 1\n",
    "surf = ax.plot_surface(X, Y, np.abs(K_shift), cmap=cm.coolwarm,\n",
    "                       linewidth=0, antialiased=False)\n",
    "plt.xlabel('x')\n",
    "plt.ylabel('y')\n",
    "# Customize the z axis.\n",
    "#ax.set_zlim(0, H + H/20)\n",
    "#ax.zaxis.set_major_locator(LinearLocator(10))\n",
    "#ax.zaxis.set_major_formatter(FormatStrFormatter('%.02f'))\n",
    "\n",
    "# Add a color bar which maps values to colors.\n",
    "#fig.colorbar(surf, shrink=0.5, aspect=5)\n",
    "\n",
    "plt.show()"
   ]
  },
  {
   "cell_type": "code",
   "execution_count": null,
   "metadata": {},
   "outputs": [],
   "source": [
    "nn = np.argmin(np.real(K_shift))\n",
    "n, m, = K_shift.shape\n",
    "x0 = [nn // n - n//2, nn % n - m//2]"
   ]
  },
  {
   "cell_type": "code",
   "execution_count": null,
   "metadata": {},
   "outputs": [],
   "source": [
    "plt.figure(figsize=(10,10))\n",
    "plt.imshow(np.clip(np.real(K_shift),-1,1))#, vmin=noisy.min(), vmax=noisy.max())\n",
    "plt.plot(n//2 + x0[0], m//2 + x0[1], 'ro')\n",
    "plt.title('Кепстр изображения с выделенным минмиумом')\n",
    "plt.savefig('kepstr.png')\n",
    "plt.show()"
   ]
  },
  {
   "cell_type": "code",
   "execution_count": null,
   "metadata": {},
   "outputs": [],
   "source": [
    "x0"
   ]
  },
  {
   "cell_type": "markdown",
   "metadata": {},
   "source": [
    "## Уточнение искажающего оператора\n",
    "$$\\varepsilon = ||\\tilde{I}\\oplus\\tilde{h}-I_0|| \\to \\min_{(x,y)}$$\n",
    "Пусть $$\\tilde{I}\\oplus(\\tilde{h}+\\tilde{dh})=I_0$$\n",
    "Тогда $$\\tilde{I}\\oplus\\tilde{dh}=I_0-\\tilde{I}\\oplus\\tilde{h}$$\n",
    "Получим задачу аналогичную исходной($\\tilde{I}\\oplus h +\\eta = I_0$)"
   ]
  },
  {
   "cell_type": "markdown",
   "metadata": {},
   "source": [
    "```python\n",
    "img_diff = liftingbody - convolve2d(deconv['image'], psf, mode='same') # Утечка\n",
    "deconv_psf = richardson_lucy_matlab(img_diff, deconv['image'], iterations=iterations, eps=1e-5, dampar=s_n, useFFT=True)\n",
    "psf_new = deconv_psf['image']\n",
    "deconv_upd = richardson_lucy_matlab(lifting_blurred, psf_new, iterations=iterations, eps=1e-5, dampar=s_n, useFFT=True)\n",
    "show_results(lifting_blurred, deconv['image'], deconv_upd['image'],\n",
    "             titles=['blurred', 'restored', 'restored with\\nnew psf'])\n",
    "plot_corr(iterations+1, [deconv['correlationX'], \n",
    "                         deconv['correlationY'],\n",
    "                         deconv_upd['correlationX'],\n",
    "                         deconv_upd['correlationY']], \n",
    "          legend=['row correlation', 'column correlation', 'row correlateion(new psf)', 'column correlation(new psf)'])\n",
    "```"
   ]
  },
  {
   "cell_type": "markdown",
   "metadata": {},
   "source": [
    "Такой подход не сработал :( Будем использовать метод Ньютона\n",
    "## Уточнение искажающего оператора"
   ]
  },
  {
   "cell_type": "markdown",
   "metadata": {},
   "source": [
    "$$(x,y)^T_{n+1} = (x, y)^T_{n} - H^{-1}(f(x,y))\\nabla f(x,y)$$\n",
    "$$H(f) =$$"
   ]
  },
  {
   "cell_type": "code",
   "execution_count": null,
   "metadata": {},
   "outputs": [],
   "source": [
    "def funcToMinimize(xy, I_blurred, *args, **kwargs):\n",
    "    psf = motion_blur_psf_my(x=xy[0], y=xy[1])\n",
    "    restored = richardson_lucy_matlab(I_blurred, psf, *args, **kwargs)\n",
    "    I_restored = restored['image']\n",
    "    df = convolve2d(I_restored, psf, 'same') - I_blurred\n",
    "    return np.mean(np.square(df))"
   ]
  },
  {
   "cell_type": "code",
   "execution_count": null,
   "metadata": {},
   "outputs": [],
   "source": [
    "partial(funcToMinimize, I_blurred=lifting_blurred, iterations=iterations, eps=1e-5, dampar=s_n, useFFT=True)([10,10])"
   ]
  },
  {
   "cell_type": "code",
   "execution_count": null,
   "metadata": {},
   "outputs": [],
   "source": [
    "cos(pi/4)*30"
   ]
  },
  {
   "cell_type": "markdown",
   "metadata": {},
   "source": [
    "### Минимизация методом Нелдера-Мида (симплекс-метод)"
   ]
  },
  {
   "cell_type": "markdown",
   "metadata": {},
   "source": [
    "```\n",
    "from scipy.optimize import minimize\n",
    "\n",
    "res = minimize(partial(funcToMinimize, I_blurred=lifting_blurred, iterations=iterations, eps=1e-5, dampar=s_n, useFFT=True),\n",
    "               x0=x0, method='nelder-mead',\n",
    "               options={'xtol': 1e-3, 'disp': True})\n",
    "```"
   ]
  },
  {
   "cell_type": "markdown",
   "metadata": {},
   "source": [
    "```\n",
    "from scipy.optimize import minimize\n",
    "\n",
    "res = minimize(partial(funcToMinimize, I_blurred=lifting_blurred, iterations=iterations, eps=1e-5, dampar=s_n, useFFT=True),\n",
    "               x0=x0, method='powell',\n",
    "               options={'xtol': 1e-3, 'disp': True})\n",
    "```"
   ]
  },
  {
   "cell_type": "markdown",
   "metadata": {},
   "source": [
    "## Метод Ньютона"
   ]
  },
  {
   "cell_type": "code",
   "execution_count": null,
   "metadata": {},
   "outputs": [],
   "source": [
    "res_tnc = minimize(partial(funcToMinimize, I_blurred=lifting_blurred, iterations=iterations, eps=1e-5, dampar=s_n, useFFT=True),\n",
    "               x0=x0, method='TNC')\n",
    "print(res_tnc)"
   ]
  },
  {
   "cell_type": "code",
   "execution_count": null,
   "metadata": {},
   "outputs": [],
   "source": [
    "res_tnc['x']"
   ]
  },
  {
   "cell_type": "code",
   "execution_count": null,
   "metadata": {},
   "outputs": [],
   "source": [
    "deconv_orig = richardson_lucy_matlab(lifting_blurred, psf, iterations=iterations, dampar=s_n, useFFT=False)\n",
    "psnr_orig = compare_psnr(liftingbody, deconv_orig['image'])\n",
    "\n",
    "psf_init = motion_blur_psf_my(x=x0[0], y=x0[1])\n",
    "deconv_init = richardson_lucy_matlab(lifting_blurred, psf_init, iterations=iterations, dampar=s_n, useFFT=False)\n",
    "psnr_init = compare_psnr(liftingbody, deconv_init['image'])\n",
    "\n",
    "x_found, y_found = res_tnc['x']\n",
    "psf_found = motion_blur_psf_my(x=x_found, y=y_found)\n",
    "deconv_found = richardson_lucy_matlab(lifting_blurred, psf_found, iterations=iterations, dampar=s_n, useFFT=False)\n",
    "psnr_found = compare_psnr(liftingbody, deconv_found['image'])\n",
    "\n",
    "show_results(deconv_orig['image'], deconv_init['image'], deconv_found['image'],\n",
    "             titles=['Restored with true psf\\nPSNR={0}\\ncoord={1}'.format(psnr_orig, x0_ref), \n",
    "                     'With initial approxiamtion\\nPSNR={0}\\ncoord={1}'.format(psnr_init, x0),\n",
    "                     'Minimized error\\nPSNR={0}\\ncoord={1}'.format(psnr_found, res_tnc['x'])])"
   ]
  },
  {
   "cell_type": "markdown",
   "metadata": {},
   "source": [
    "## Оценка криволинейного оператора смаза, представленного кривой Безье"
   ]
  },
  {
   "cell_type": "code",
   "execution_count": null,
   "metadata": {},
   "outputs": [],
   "source": [
    "sz = 20\n",
    "#points_real = [2*sz//3-1, sz//3, sz-1, sz-1]\n",
    "points_real = [sz, 0, sz, sz]\n",
    "psf_bezier = bezier_psf2(points_real)\n",
    "plt.imshow(psf_bezier)\n",
    "plt.show()"
   ]
  },
  {
   "cell_type": "code",
   "execution_count": null,
   "metadata": {},
   "outputs": [],
   "source": [
    "psf_bezier"
   ]
  },
  {
   "cell_type": "markdown",
   "metadata": {},
   "source": [
    "```\n",
    "import math\n",
    "def bezier2_psf(points):\n",
    "    print(points)\n",
    "    #points = list(map(int, points))\n",
    "    shape = math.ceil(max(points[1::2]))+1, math.ceil(max(points[::2]))+1\n",
    "    r, c = bezier_curve(0, 0, *points, weight=1)\n",
    "    psf_bezier = np.zeros(shape)\n",
    "    psf_bezier[r,c] = 1\n",
    "    psf_bezier /= psf_bezier.sum()\n",
    "    return psf_bezier\n",
    "```"
   ]
  },
  {
   "cell_type": "code",
   "execution_count": null,
   "metadata": {},
   "outputs": [],
   "source": [
    "lifting_bezier_blurred = convolve2d(liftingbody, psf_bezier, 'same')\n",
    "\n",
    "lifting_restored = restoration.richardson_lucy(lifting_bezier_blurred, psf_bezier, iterations=iterations)\n",
    "psnr_py = compare_psnr(liftingbody, lifting_restored)\n",
    "\n",
    "deconv_bezier = richardson_lucy_matlab(lifting_bezier_blurred, psf_bezier, iterations=iterations, clip=True, useFFT=True, dampar=0.004)\n",
    "psnr_my = compare_psnr(liftingbody, deconv_bezier['image'])"
   ]
  },
  {
   "cell_type": "code",
   "execution_count": null,
   "metadata": {},
   "outputs": [],
   "source": [
    "show_results(lifting_bezier_blurred, lifting_restored, deconv_bezier['image'],\n",
    "            titles=['Blurred image', 'Restored with python LR\\nPSNR={0}'.format(psnr_py), 'Restored with my LR\\nPSNR={0}'.format(psnr_my)])"
   ]
  },
  {
   "cell_type": "code",
   "execution_count": null,
   "metadata": {},
   "outputs": [],
   "source": [
    "def funcToMinimizeCurved(xy, I_blurred, *args, **kwargs):\n",
    "    psf = bezier_psf2(xy, n=100)\n",
    "    restored = richardson_lucy_matlab(I_blurred, psf, *args, **kwargs)\n",
    "    I_restored = restored['image']\n",
    "    df = convolve2d(I_restored, psf, 'same', 'symm') - I_blurred\n",
    "    return np.mean(np.square(df))\n",
    "partial(funcToMinimizeCurved, I_blurred=lifting_blurred, iterations=iterations, eps=1e-5, dampar=s_n, useFFT=True)([0, 10, 10, 10])"
   ]
  },
  {
   "cell_type": "code",
   "execution_count": null,
   "metadata": {},
   "outputs": [],
   "source": [
    "x0 = [20, 0, 15, 20]\n",
    "res_tnc = minimize(partial(funcToMinimizeCurved, I_blurred=lifting_blurred, iterations=iterations, eps=1e-5, dampar=s_n, useFFT=True),\n",
    "                   x0=x0, method='TNC')\n",
    "print(res_tnc)\n",
    "\n",
    "# [(12.0, 10.0), (20.0, 20.0)]\n",
    "# [(12.0, 10.0), (20.0, 20.0)]\n",
    "# [(12.00000001, 10.0), (20.0, 20.0)]\n",
    "# [(12.0, 10.00000001), (20.0, 20.0)]\n",
    "# [(12.0, 10.0), (20.00000001, 20.0)]\n",
    "# [(12.0, 10.0), (20.0, 20.00000001)]\n",
    "# [(12.0, 10.0), (20.0, 20.0)]\n",
    "# [(12.0, 10.0), (20.0, 20.0)]\n",
    "# [(12.00000001, 10.0), (20.0, 20.0)]\n",
    "# [(12.0, 10.00000001), (20.0, 20.0)]\n",
    "# [(12.0, 10.0), (20.00000001, 20.0)]\n",
    "# [(12.0, 10.0), (20.0, 20.00000001)]\n",
    "#      fun: 0.00502600166295737\n",
    "#      jac: array([0., 0., 0., 0.])\n",
    "#  message: 'Local minimum reached (|pg| ~= 0)'\n",
    "#     nfev: 1\n",
    "#      nit: 0\n",
    "#   status: 0\n",
    "#  success: True\n",
    "#        x: array([12., 10., 20., 20.])\n",
    "# ```"
   ]
  },
  {
   "cell_type": "code",
   "execution_count": null,
   "metadata": {},
   "outputs": [],
   "source": [
    "points_found = res_tnc['x']\n",
    "psf_found = bezier_psf2(points_found)\n",
    "deconv_found = richardson_lucy_matlab(lifting_bezier_blurred, psf_found, iterations=iterations, dampar=s_n, useFFT=False)\n"
   ]
  },
  {
   "cell_type": "code",
   "execution_count": null,
   "metadata": {},
   "outputs": [],
   "source": [
    "x0 = [12, 10, 20, 20]\n",
    "res_nelder = minimize(partial(funcToMinimizeCurved, I_blurred=lifting_blurred, iterations=iterations, eps=1e-5, dampar=s_n, useFFT=True), x0=x0, method='Nelder-Mead', options={'xtol': 1e-3, 'disp': True})\n",
    "print(res_nelder)"
   ]
  },
  {
   "cell_type": "code",
   "execution_count": null,
   "metadata": {},
   "outputs": [],
   "source": [
    "deconv_orig = richardson_lucy_matlab(lifting_bezier_blurred, psf_bezier, iterations=iterations, dampar=s_n, useFFT=False)\n",
    "psnr_orig = compare_psnr(liftingbody, deconv_orig['image'])\n",
    "\n",
    "psf_init = bezier_psf2(x0)\n",
    "deconv_init = richardson_lucy_matlab(lifting_bezier_blurred, psf_init, iterations=iterations, dampar=s_n, useFFT=False)\n",
    "psnr_init = compare_psnr(liftingbody, deconv_init['image'])\n",
    "\n",
    "points_found = res_nelder['x']\n",
    "psf_found = bezier_psf2(points_found)\n",
    "deconv_found = richardson_lucy_matlab(lifting_bezier_blurred, psf_found, iterations=iterations, dampar=s_n, useFFT=False)\n",
    "psnr_found = compare_psnr(liftingbody, deconv_found['image'])\n",
    "\n",
    "show_results(deconv_orig['image'], deconv_init['image'], deconv_found['image'],\n",
    "             titles=['Restored with true psf\\nPSNR={0}\\ncoord={1}'.format(psnr_orig, x0_ref), \n",
    "                     'With initial approxiamtion\\nPSNR={0}\\ncoord={1}'.format(psnr_init, x0),\n",
    "                     'Minimized error\\nPSNR={0}\\ncoord={1}'.format(psnr_found, res_nelder['x'])])"
   ]
  },
  {
   "cell_type": "markdown",
   "metadata": {},
   "source": [
    "* Запустить градиентный метод\n",
    "* Сделать мощный edgetaper\n",
    "* Сделать антиалиасинг psf"
   ]
  }
 ],
 "metadata": {
  "kernelspec": {
   "display_name": "Python 3",
   "language": "python",
   "name": "python3"
  },
  "language_info": {
   "codemirror_mode": {
    "name": "ipython",
    "version": 3
   },
   "file_extension": ".py",
   "mimetype": "text/x-python",
   "name": "python",
   "nbconvert_exporter": "python",
   "pygments_lexer": "ipython3",
   "version": "3.6.3"
  },
  "toc": {
   "nav_menu": {},
   "number_sections": true,
   "sideBar": true,
   "skip_h1_title": false,
   "toc_cell": false,
   "toc_position": {
    "height": "802px",
    "left": "0px",
    "right": "1641px",
    "top": "111px",
    "width": "212px"
   },
   "toc_section_display": "block",
   "toc_window_display": true
  }
 },
 "nbformat": 4,
 "nbformat_minor": 2
}

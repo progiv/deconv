{
 "cells": [
  {
   "cell_type": "markdown",
   "metadata": {},
   "source": [
    "# Восстановление изображений\n",
    "Старый файл с основными методами восстановления.\n",
    "\n",
    "Время работы: 18с"
   ]
  },
  {
   "cell_type": "code",
   "execution_count": null,
   "metadata": {},
   "outputs": [],
   "source": [
    "import numpy as np\n",
    "import matplotlib.pyplot as plt\n",
    "\n",
    "from scipy.signal import convolve2d\n",
    "from numpy.fft import fftn, ifftn\n",
    "\n",
    "from skimage import color, data, restoration\n",
    "\n",
    "import numpy as np\n",
    "from skimage import color, data, img_as_float, io\n",
    "\n",
    "from functools import partial\n",
    "from scipy.optimize import minimize\n",
    "\n",
    "from util import *\n",
    "from richardson_lucy import *"
   ]
  },
  {
   "cell_type": "code",
   "execution_count": null,
   "metadata": {},
   "outputs": [],
   "source": [
    "astro = color.rgb2gray(data.astronaut())\n",
    "prefix = \"pic/deconv\""
   ]
  },
  {
   "cell_type": "code",
   "execution_count": null,
   "metadata": {},
   "outputs": [],
   "source": [
    "def plot_triptih(images, titles=('Original', 'Distorted', 'Restored')):\n",
    "    # Support method for plotting images (orignal, distorted, restored)\n",
    "    n = len(images)\n",
    "    m = len(titles)\n",
    "    fig, ax = plt.subplots(nrows=1, ncols=n, figsize=(20, 10))\n",
    "    plt.gray()\n",
    "    for a in ax:\n",
    "           a.axis('off')\n",
    "\n",
    "    for i,I in enumerate(images):\n",
    "        ax[i].imshow(I)\n",
    "        if i<m:\n",
    "            ax[i].set_title(titles[i])\n",
    "\n",
    "    fig.subplots_adjust(wspace=0.02, hspace=0.02,\n",
    "                        top=0.9, bottom=0.05, left=0, right=1)\n",
    "\n",
    "    plt.show()"
   ]
  },
  {
   "cell_type": "code",
   "execution_count": null,
   "metadata": {},
   "outputs": [],
   "source": [
    "shift = 15\n",
    "psf = motion_blur_psf_my(shift, pi/3)\n",
    "astro_blurred = convolve2d(astro, psf, 'same', 'symm')\n",
    "astro_blurred += 1e-5 * np.random.standard_normal(astro_blurred.shape)#astro_blurred.std()\n",
    "#astro_blurred = edgetaper(astro_blurred, gkern2(60, 21))\n",
    "npArrayToPng(astro_blurred, \"{0}-astro-shift10.png\".format(prefix))"
   ]
  },
  {
   "cell_type": "markdown",
   "metadata": {},
   "source": [
    "# Инверсная фильтрация"
   ]
  },
  {
   "cell_type": "code",
   "execution_count": null,
   "metadata": {},
   "outputs": [],
   "source": [
    "plt.figure(figsize=(6,6))\n",
    "plt.imshow(astro_blurred, 'gray')\n",
    "plt.show()"
   ]
  },
  {
   "cell_type": "code",
   "execution_count": null,
   "metadata": {},
   "outputs": [],
   "source": [
    "psf2 = np.zeros(astro_blurred.shape)\n",
    "psf2[:psf.shape[0], :psf.shape[1]] = psf"
   ]
  },
  {
   "cell_type": "code",
   "execution_count": null,
   "metadata": {},
   "outputs": [],
   "source": [
    "astro_blurred = edgetaper(astro_blurred, gkern2(60, 21))\n",
    "astro_restored = ifftn(fftn(astro_blurred)/psf2otf(psf, astro_blurred.shape))\n",
    "#astro_restored = ifftn(fftn(astro_blurred)/fftn(psf2))\n",
    "astro_restored = np.clip(np.abs(astro_restored),0, 1)\n",
    "npArrayToPng(astro_restored, \"{0}-inverse-filter.png\".format(prefix))"
   ]
  },
  {
   "cell_type": "code",
   "execution_count": null,
   "metadata": {},
   "outputs": [],
   "source": [
    "print(compare_psnr_crop(astro, astro_restored))\n",
    "plt.imshow(astro_restored, 'gray')\n",
    "plt.show()"
   ]
  },
  {
   "cell_type": "markdown",
   "metadata": {},
   "source": [
    "## Unsupervised wiener\n",
    "box 10x10 filter"
   ]
  },
  {
   "cell_type": "code",
   "execution_count": null,
   "metadata": {
    "scrolled": true
   },
   "outputs": [],
   "source": [
    "shift = 15\n",
    "psf = motion_blur_psf_my(shift, pi/3)\n",
    "astro_distorted = convolve2d(astro, psf, 'same', 'symm')\n",
    "astro_distorted += 0.001 * np.random.standard_normal(astro_distorted.shape)# * astro_distorted.std()\n",
    "#astro_distorted = edgetaper(astro_distorted, gkern2(60, 21))\n",
    "\n",
    "deconvolved, _ = restoration.unsupervised_wiener(edgetaper(astro_distorted, gkern2(60, 21)), psf)\n",
    "deconvolved = np.clip(deconvolved, 0, 1)\n",
    "\n",
    "plot_triptih((astro, astro_distorted, deconvolved),\n",
    "            ('Data', 'Distorted', 'Self tuned restoration'))\n",
    "npArrayToPng(astro_distorted, \"{0}-shift15.png\".format(prefix))\n",
    "npArrayToPng(deconvolved, \"{0}-shift15-restored-u-wiener.png\".format(prefix))\n",
    "print(compare_psnr_crop(astro, deconvolved))"
   ]
  },
  {
   "cell_type": "code",
   "execution_count": null,
   "metadata": {},
   "outputs": [],
   "source": [
    "import skimage.data\n",
    "from skimage import img_as_float\n",
    "img = img_as_float(skimage.data.camera())\n",
    "sigma = 0.1\n",
    "img = img + sigma * np.random.standard_normal(img.shape)\n",
    "sigma_hat = restoration.estimate_sigma(img, multichannel=False)\n",
    "sigma, sigma_hat"
   ]
  },
  {
   "cell_type": "markdown",
   "metadata": {},
   "source": [
    "## Wiener\n",
    "box 10x10"
   ]
  },
  {
   "cell_type": "code",
   "execution_count": null,
   "metadata": {},
   "outputs": [],
   "source": [
    "astro_distorted = convolve2d(astro, psf, 'same', 'symm')\n",
    "astro_distorted += 0.1 * astro_distorted.std() * np.random.standard_normal(astro_distorted.shape)\n",
    "#astro_distorted = edgetaper(astro_distorted, gkern2(60, 21))\n",
    "\n",
    "deconvolved_img = restoration.wiener(edgetaper(astro_distorted, gkern2(60, 21)), psf, 1)\n",
    "deconvolved_img = np.clip(deconvolved, 0, 1)\n",
    "print(compare_psnr_crop(astro, deconvolved_img))\n",
    "plot_triptih((astro, astro_distorted, deconvolved_img))"
   ]
  },
  {
   "cell_type": "code",
   "execution_count": null,
   "metadata": {},
   "outputs": [],
   "source": [
    "astro = color.rgb2gray(data.astronaut())\n",
    "N = 10\n",
    "psf = np.ones((N, N)) / N**2\n",
    "astro_distorted = convolve2d(astro, psf, 'same', 'symm')\n",
    "astro_distorted += 0.1 * astro_distorted.std() * np.random.standard_normal(astro_distorted.shape)\n",
    "#astro_distorted = edgetaper(astro_distorted, gkern2(60, 21))\n",
    "\n",
    "#sigma_hat = restoration.estimate_sigma(I_noised, multichannel=False)\n",
    "\n",
    "deconvolved_img = restoration.wiener(edgetaper(astro_distorted, gkern2(60, 21)), psf, 1)\n",
    "print(compare_psnr_crop(astro, deconvolved_img))\n",
    "plot_triptih((astro, astro_distorted, deconvolved_img),\n",
    "             ('Original Data', 'Box {0}x{0} blurred'.format(N), 'Restoration using\\nWiener'))"
   ]
  },
  {
   "cell_type": "markdown",
   "metadata": {},
   "source": [
    "## Lucy-Richardson\n",
    "box 10x10 filter"
   ]
  },
  {
   "cell_type": "code",
   "execution_count": null,
   "metadata": {},
   "outputs": [],
   "source": [
    "shift = 15\n",
    "psf = motion_blur_psf_my(shift, pi/3)\n",
    "astro_distorted = convolve2d(astro, psf, 'same', 'symm')\n",
    "astro_distorted += 0.001 * np.random.standard_normal(astro_distorted.shape)\n",
    "#astro_distorted = edgetaper(astro_distorted, gkern2(60, 21))\n",
    "# Add Noise to Image\n",
    "astro_noisy = astro.copy()\n",
    "astro_noisy += (np.random.poisson(lam=25, size=astro.shape) - 10) / 255.\n",
    "\n",
    "# Restore Image using Richardson-Lucy algorithm\n",
    "#richardson_lucy_matlab(astro_noisy, psf, iterations=50, dam)\n",
    "deconvolved_RL = richardson_lucy_matlab(edgetaper(astro_distorted, gkern2(30, 11)), psf, iterations=30)\n",
    "print(compare_psnr_crop(astro, deconvolved_RL['image']))\n",
    "plot_triptih((astro, astro_noisy, deconvolved_RL['image']),\n",
    "             ('Original Data', 'Box {0}x{0} blurred'.format(N), 'Restoration using\\nRichardson-Lucy'))"
   ]
  },
  {
   "cell_type": "code",
   "execution_count": null,
   "metadata": {},
   "outputs": [],
   "source": [
    "astro_distorted"
   ]
  },
  {
   "cell_type": "markdown",
   "metadata": {},
   "source": [
    "Motion blur (x+=20) filter"
   ]
  },
  {
   "cell_type": "code",
   "execution_count": null,
   "metadata": {},
   "outputs": [],
   "source": [
    "shift = 15\n",
    "psf = motion_blur_psf_my(shift, pi/3)\n",
    "astro_distorted = convolve2d(astro, psf, 'same', 'symm')\n",
    "astro_distorted += 0.001 * np.random.standard_normal(astro_distorted.shape)\n",
    "#astro_distorted = edgetaper(astro_distorted, gkern2(60, 21))\n",
    "\n",
    "deconvolved_RL = richardson_lucy_matlab(edgetaper(astro_distorted, gkern2(30, 11)), psf, iterations=50)\n",
    "print(compare_psnr_crop(astro, deconvolved_RL['image']))\n",
    "plot_triptih((astro, astro_blurred, deconvolved_RL['image']),\n",
    "             ('Original Data', 'Motion blurred {0} pixels'.format(N), 'Restoration using\\nRichardson-Lucy'))"
   ]
  },
  {
   "cell_type": "code",
   "execution_count": null,
   "metadata": {},
   "outputs": [],
   "source": [
    "def gauss2dKernel(sigma, size=3):\n",
    "    # First a 1-D  Gaussian\n",
    "    t = np.linspace(-(size-1)/2., (size-1)/2., size)\n",
    "    bump = np.exp(-t**2/(2*sigma**2))\n",
    "    return bump[:, np.newaxis] * bump[np.newaxis, :] / (2*np.pi*sigma**2)"
   ]
  },
  {
   "cell_type": "code",
   "execution_count": null,
   "metadata": {},
   "outputs": [],
   "source": [
    "I = color.rgb2gray(data.astronaut())\n",
    "\n",
    "psf_mv = gauss2dKernel(3, 20)\n",
    "I_moved = convolve2d(I, psf_mv, 'same')\n",
    "\n",
    "# Add Noise to Image\n",
    "I_noised = I_moved.copy()\n",
    "I_noised += (np.random.poisson(lam=25, size=I_noised.shape) - 10) / 255.\n",
    "#I_noised = edgetaper(I_noised, gkern2(60, 21))\n",
    "\n",
    "deconvolved_RL = richardson_lucy_matlab(edgetaper(I_noised, gkern2(60, 21)), psf_mv, iterations=30)\n",
    "print(compare_psnr_crop(astro, deconvolved_RL['image']))\n",
    "plot_triptih((I, I_noised, deconvolved_RL['image']),\n",
    "             ('Original Data', 'Gauss blurred', 'Restoration using\\nRichardson-Lucy'))"
   ]
  },
  {
   "cell_type": "markdown",
   "metadata": {
    "ExecuteTime": {
     "end_time": "2018-06-03T16:51:56.535528Z",
     "start_time": "2018-06-03T16:51:56.532488Z"
    }
   },
   "source": [
    "# Спектр"
   ]
  },
  {
   "cell_type": "code",
   "execution_count": null,
   "metadata": {},
   "outputs": [],
   "source": [
    "psf = motion_blur_psf_my(40, pi/6)\n",
    "astro_blurred = convolve2d(astro, psf, 'same', 'symm')\n",
    "#astro_blurred += 5e-2 * np.random.standard_normal(astro_blurred.shape)\n",
    "plt.imshow(astro_blurred)\n",
    "plt.show()"
   ]
  },
  {
   "cell_type": "code",
   "execution_count": null,
   "metadata": {},
   "outputs": [],
   "source": [
    "astro_blurred_spectre = np.clip(np.abs(fftn(astro_blurred)), 0, 2)\n",
    "astro_blurred_spectre = np.fft.fftshift(astro_blurred_spectre)\n",
    "plt.imshow(astro_blurred_spectre, 'gray')\n",
    "plt.show()"
   ]
  },
  {
   "cell_type": "code",
   "execution_count": null,
   "metadata": {},
   "outputs": [],
   "source": [
    "npArrayToPng(astro, 'pic/astro.png')\n",
    "npArrayToPng(astro_blurred, '{0}-astro-blurred-shift40.png'.format(prefix))\n",
    "npArrayToPng(astro_blurred_spectre, '{0}-astro-spectre-shift40.png'.format(prefix))"
   ]
  },
  {
   "cell_type": "markdown",
   "metadata": {
    "ExecuteTime": {
     "end_time": "2018-06-03T20:30:37.667908Z",
     "start_time": "2018-06-03T20:30:37.663971Z"
    }
   },
   "source": [
    "# Кепстр"
   ]
  },
  {
   "cell_type": "code",
   "execution_count": null,
   "metadata": {},
   "outputs": [],
   "source": [
    "N,M = astro_blurred.shape\n",
    "# ( ifft2 (100* log (1+ abs ( fft2 ( I ) ) ) ) ) ;\n",
    "K = np.fft.ifftn(100*np.log(1+np.abs(np.fft.fftn(astro_blurred))))\n",
    "K_shift = np.fft.fftshift(K)\n",
    "\n",
    "nn = np.argmin(np.real(K_shift))\n",
    "n, m, = K_shift.shape\n",
    "r, c = np.unravel_index(np.argmin(K_shift, axis=None), K_shift.shape)\n",
    "x0 = [r - n//2, c - m//2]\n",
    "print(x0)"
   ]
  },
  {
   "cell_type": "code",
   "execution_count": null,
   "metadata": {},
   "outputs": [],
   "source": [
    "plt.figure(figsize=(10,10))\n",
    "plt.imshow(np.clip(np.real(K_shift),-2,1))#, vmin=noisy.min(), vmax=noisy.max())\n",
    "npArrayToPng(np.clip(np.real(K_shift),-2,1), '{0}-kepstr-shift40-pi6.png'.format(prefix))\n",
    "plt.plot(n//2 + x0[1], m//2 + x0[0], 'ro')\n",
    "plt.title('Кепстр изображения с выделенным минмиумом')\n",
    "#plt.savefig('pic/{0}-kepstr.png'.format(prefix))\n",
    "plt.show()"
   ]
  },
  {
   "cell_type": "markdown",
   "metadata": {},
   "source": [
    "# С шумом"
   ]
  },
  {
   "cell_type": "code",
   "execution_count": null,
   "metadata": {},
   "outputs": [],
   "source": [
    "astro_blurred = convolve2d(astro, psf, 'same')\n",
    "astro_blurred += 1e-1 * np.random.standard_normal(astro_blurred.shape)\n",
    "N,M = astro_blurred.shape\n",
    "\n",
    "K = np.fft.ifftn(100*np.log(1+np.abs(np.fft.fftn(astro_blurred))))\n",
    "K_shift = np.fft.fftshift(K)\n",
    "\n",
    "nn = np.argmin(np.real(K_shift))\n",
    "n, m, = K_shift.shape\n",
    "r, c = np.unravel_index(np.argmin(K_shift, axis=None), K_shift.shape)\n",
    "x0 = [r - n//2, c - m//2]\n",
    "print(x0)"
   ]
  },
  {
   "cell_type": "code",
   "execution_count": null,
   "metadata": {},
   "outputs": [],
   "source": [
    "plt.figure(figsize=(10,10))\n",
    "plt.imshow(np.clip(np.real(K_shift),-2,1))#, vmin=noisy.min(), vmax=noisy.max())\n",
    "npArrayToPng(np.clip(np.real(K_shift),-2,1), '{0}-kepstr-noised-shift40-pi6.png'.format(prefix))\n",
    "plt.plot(n//2 + x0[1], m//2 + x0[0], 'ro')\n",
    "plt.title('Кепстр изображения с выделенным минмиумом')\n",
    "#plt.savefig('pic/{0}-kepstr.png'.format(prefix))\n",
    "plt.show()"
   ]
  }
 ],
 "metadata": {
  "kernelspec": {
   "display_name": "Python 3",
   "language": "python",
   "name": "python3"
  },
  "language_info": {
   "codemirror_mode": {
    "name": "ipython",
    "version": 3
   },
   "file_extension": ".py",
   "mimetype": "text/x-python",
   "name": "python",
   "nbconvert_exporter": "python",
   "pygments_lexer": "ipython3",
   "version": "3.6.5"
  },
  "toc": {
   "nav_menu": {},
   "number_sections": true,
   "sideBar": true,
   "skip_h1_title": false,
   "toc_cell": false,
   "toc_position": {},
   "toc_section_display": "block",
   "toc_window_display": false
  }
 },
 "nbformat": 4,
 "nbformat_minor": 2
}

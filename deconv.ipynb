{
 "cells": [
  {
   "cell_type": "markdown",
   "metadata": {},
   "source": [
    "# Восстановление изображений\n",
    "Старый файл с основными методами восстановления.\n",
    "\n",
    "Время работы: 18с"
   ]
  },
  {
   "cell_type": "code",
   "execution_count": null,
   "metadata": {},
   "outputs": [],
   "source": [
    "import numpy as np\n",
    "import matplotlib.pyplot as plt\n",
    "\n",
    "from scipy.signal import convolve2d as conv2\n",
    "\n",
    "from skimage import color, data, restoration"
   ]
  },
  {
   "cell_type": "code",
   "execution_count": null,
   "metadata": {},
   "outputs": [],
   "source": [
    "def plot_triptih(images, titles=('Original', 'Distorted', 'Restored')):\n",
    "    # Support method for plotting images (orignal, distorted, restored)\n",
    "    n = len(images)\n",
    "    m = len(titles)\n",
    "    fig, ax = plt.subplots(nrows=1, ncols=n, figsize=(20, 10))\n",
    "    plt.gray()\n",
    "    for a in ax:\n",
    "           a.axis('off')\n",
    "\n",
    "    for i,I in enumerate(images):\n",
    "        ax[i].imshow(I)\n",
    "        if i<m:\n",
    "            ax[i].set_title(titles[i])\n",
    "\n",
    "    fig.subplots_adjust(wspace=0.02, hspace=0.02,\n",
    "                        top=0.9, bottom=0.05, left=0, right=1)\n",
    "\n",
    "    plt.show()"
   ]
  },
  {
   "cell_type": "markdown",
   "metadata": {},
   "source": [
    "## Unsupervised wiener\n",
    "box 10x10 filter"
   ]
  },
  {
   "cell_type": "code",
   "execution_count": null,
   "metadata": {
    "scrolled": true
   },
   "outputs": [],
   "source": [
    "astro = color.rgb2gray(data.astronaut())\n",
    "\n",
    "N = 5\n",
    "psf = np.ones((N, N)) / N**2\n",
    "astro_distorted = conv2(astro, psf, 'same')\n",
    "astro_distorted += 0.1 * astro_distorted.std() * np.random.standard_normal(astro_distorted.shape)\n",
    "\n",
    "deconvolved, _ = restoration.unsupervised_wiener(astro_distorted, psf)\n",
    "\n",
    "plot_triptih((astro, astro_distorted, deconvolved),\n",
    "            ('Data', 'Distorted', 'Self tuned restoration'))"
   ]
  },
  {
   "cell_type": "code",
   "execution_count": null,
   "metadata": {},
   "outputs": [],
   "source": [
    "import skimage.data\n",
    "from skimage import img_as_float\n",
    "img = img_as_float(skimage.data.camera())\n",
    "sigma = 0.1\n",
    "img = img + sigma * np.random.standard_normal(img.shape)\n",
    "sigma_hat = restoration.estimate_sigma(img, multichannel=False)\n",
    "sigma, sigma_hat"
   ]
  },
  {
   "cell_type": "markdown",
   "metadata": {},
   "source": [
    "## Wiener\n",
    "box 10x10"
   ]
  },
  {
   "cell_type": "code",
   "execution_count": null,
   "metadata": {},
   "outputs": [],
   "source": [
    "from skimage import color, data, restoration\n",
    "astro = color.rgb2gray(data.astronaut())\n",
    "from scipy.signal import convolve2d\n",
    "N = 10\n",
    "psf = np.ones((N, N)) / N**2\n",
    "astro_distorted = convolve2d(astro, psf, 'same')\n",
    "astro_distorted += 0.1 * astro_distorted.std() * np.random.standard_normal(astro_distorted.shape)\n",
    "deconvolved_img = restoration.wiener(astro_distorted, psf, 1)\n",
    "\n",
    "plot_triptih((astro, astro_distorted, deconvolved_img))"
   ]
  },
  {
   "cell_type": "code",
   "execution_count": null,
   "metadata": {},
   "outputs": [],
   "source": [
    "astro = color.rgb2gray(data.astronaut())\n",
    "N = 10\n",
    "psf = np.ones((N, N)) / N**2\n",
    "astro_distorted = convolve2d(astro, psf, 'same')\n",
    "astro_distorted += 0.1 * astro_distorted.std() * np.random.standard_normal(astro_distorted.shape)\n",
    "\n",
    "#sigma_hat = restoration.estimate_sigma(I_noised, multichannel=False)\n",
    "\n",
    "deconvolved_img = restoration.wiener(astro_distorted, psf, 1)\n",
    "\n",
    "plot_triptih((astro, astro_distorted, deconvolved_img),\n",
    "             ('Original Data', 'Box {0}x{0} blurred'.format(N), 'Restoration using\\nWiener'))"
   ]
  },
  {
   "cell_type": "markdown",
   "metadata": {},
   "source": [
    "## Lucy-Richardson\n",
    "box 10x10 filter"
   ]
  },
  {
   "cell_type": "code",
   "execution_count": null,
   "metadata": {},
   "outputs": [],
   "source": [
    "astro = color.rgb2gray(data.coffee())#color.rgb2gray(data.astronaut())\n",
    "N = 10\n",
    "psf = np.ones((N, N)) / N**2\n",
    "astro = conv2(astro, psf, 'same')\n",
    "# Add Noise to Image\n",
    "astro_noisy = astro.copy()\n",
    "astro_noisy += (np.random.poisson(lam=25, size=astro.shape) - 10) / 255.\n",
    "\n",
    "# Restore Image using Richardson-Lucy algorithm\n",
    "deconvolved_RL = restoration.richardson_lucy(astro_noisy, psf, iterations=30)\n",
    "\n",
    "plot_triptih((astro, astro_noisy, deconvolved_RL),\n",
    "             ('Original Data', 'Box {0}x{0} blurred'.format(N), 'Restoration using\\nRichardson-Lucy'))"
   ]
  },
  {
   "cell_type": "markdown",
   "metadata": {},
   "source": [
    "Motion blur (x+=20) filter"
   ]
  },
  {
   "cell_type": "code",
   "execution_count": null,
   "metadata": {},
   "outputs": [],
   "source": [
    "I = color.rgb2gray(data.astronaut())\n",
    "mv = 20\n",
    "psf_mv = np.ones((1,mv))/mv\n",
    "I_moved = conv2(I, psf_mv, 'same')\n",
    "\n",
    "# Add Noise to Image\n",
    "I_noised = I_moved.copy()\n",
    "I_noised += (np.random.poisson(lam=25, size=I_noised.shape) - 10) / 255.\n",
    "\n",
    "#mv -=14\n",
    "#psf_mv = np.ones((1,mv))/mv\n",
    "deconvolved_RL = restoration.richardson_lucy(I_noised, psf_mv, iterations=50)\n",
    "\n",
    "plot_triptih((I, I_noised, deconvolved_RL),\n",
    "             ('Original Data', 'Motion blurred {0} pixels'.format(N), 'Restoration using\\nRichardson-Lucy'))"
   ]
  },
  {
   "cell_type": "code",
   "execution_count": null,
   "metadata": {},
   "outputs": [],
   "source": [
    "def gauss2dKernel(sigma, size=3):\n",
    "    # First a 1-D  Gaussian\n",
    "    t = np.linspace(-(size-1)/2., (size-1)/2., size)\n",
    "    bump = np.exp(-t**2/(2*sigma**2))\n",
    "    return bump[:, np.newaxis] * bump[np.newaxis, :] / (2*np.pi*sigma**2)"
   ]
  },
  {
   "cell_type": "code",
   "execution_count": null,
   "metadata": {},
   "outputs": [],
   "source": [
    "I = color.rgb2gray(data.astronaut())\n",
    "\n",
    "psf_mv = gauss2dKernel(3, 20)\n",
    "I_moved = conv2(I, psf_mv, 'same')\n",
    "\n",
    "# Add Noise to Image\n",
    "I_noised = I_moved.copy()\n",
    "I_noised += (np.random.poisson(lam=25, size=I_noised.shape) - 10) / 255.\n",
    "\n",
    "deconvolved_RL = restoration.richardson_lucy(I_noised, psf_mv, iterations=30)\n",
    "\n",
    "plot_triptih((I, I_noised, deconvolved_RL),\n",
    "             ('Original Data', 'Gauss blurred', 'Restoration using\\nRichardson-Lucy'))"
   ]
  }
 ],
 "metadata": {
  "kernelspec": {
   "display_name": "Python 3",
   "language": "python",
   "name": "python3"
  },
  "language_info": {
   "codemirror_mode": {
    "name": "ipython",
    "version": 3
   },
   "file_extension": ".py",
   "mimetype": "text/x-python",
   "name": "python",
   "nbconvert_exporter": "python",
   "pygments_lexer": "ipython3",
   "version": "3.6.5"
  },
  "toc": {
   "nav_menu": {},
   "number_sections": true,
   "sideBar": true,
   "skip_h1_title": false,
   "toc_cell": false,
   "toc_position": {},
   "toc_section_display": "block",
   "toc_window_display": false
  }
 },
 "nbformat": 4,
 "nbformat_minor": 2
}

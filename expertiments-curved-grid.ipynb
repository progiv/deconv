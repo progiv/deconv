{
 "cells": [
  {
   "cell_type": "markdown",
   "metadata": {},
   "source": [
    "# Оценка линейного искажающего оператора в задаче восстановления изображений\n",
    "Время работы: очень долго(больше часа)"
   ]
  },
  {
   "cell_type": "code",
   "execution_count": null,
   "metadata": {},
   "outputs": [],
   "source": [
    "import numpy as np\n",
    "from skimage import color, data, restoration, img_as_float, io\n",
    "# import matplotlib.pyplot as plt\n",
    "from scipy.signal import convolve2d as conv2\n",
    "from skimage.measure import compare_psnr\n",
    "from functools import partial\n",
    "from scipy.optimize import minimize\n",
    "from mpl_toolkits.mplot3d import Axes3D\n",
    "import matplotlib.pyplot as plt\n",
    "from matplotlib import cm\n",
    "from matplotlib.ticker import LinearLocator, FormatStrFormatter\n",
    "from tqdm import tqdm_notebook\n",
    "import pickle\n",
    "import os.path\n",
    "\n",
    "from util import *\n",
    "from richardson_lucy import *\n",
    "plt.gray()"
   ]
  },
  {
   "cell_type": "code",
   "execution_count": null,
   "metadata": {},
   "outputs": [],
   "source": [
    "prefix=\"pic/cgrid\""
   ]
  },
  {
   "cell_type": "code",
   "execution_count": null,
   "metadata": {},
   "outputs": [],
   "source": [
    "astro = color.rgb2gray(data.astronaut())\n",
    "liftingbody = img_as_float(io.imread('liftingbody.png'))"
   ]
  },
  {
   "cell_type": "code",
   "execution_count": null,
   "metadata": {},
   "outputs": [],
   "source": [
    "iterations=20"
   ]
  },
  {
   "cell_type": "markdown",
   "metadata": {},
   "source": [
    "## Оценка криволинейного оператора смаза, представленного кривой Безье"
   ]
  },
  {
   "cell_type": "code",
   "execution_count": null,
   "metadata": {},
   "outputs": [],
   "source": [
    "sz = 21\n",
    "deg = 5\n",
    "points_real = [(deg-1)*sz//deg-1, sz//deg, sz-1, sz-1]\n",
    "print(points_real)\n",
    "psf_bezier = bezier_psf2(points_real, 100)\n",
    "plt.imshow(psf_bezier)\n",
    "plt.title(np.concatenate(([0,0], points_real)))\n",
    "plt.plot(0, 0, 'ro')\n",
    "plt.plot(points_real[0], points_real[1], 'ro')\n",
    "plt.plot(points_real[2], points_real[3], 'ro')\n",
    "plt.savefig(\"{0}-curved-psf.png\".format(prefix))\n",
    "plt.show()"
   ]
  },
  {
   "cell_type": "code",
   "execution_count": null,
   "metadata": {},
   "outputs": [],
   "source": [
    "lifting_bezier_blurred = convolve2d(liftingbody, psf_bezier, 'same')\n",
    "#lifting_bezier_blurred = edgetaper(lifting_bezier_blurred, gkern2(41,10))"
   ]
  },
  {
   "cell_type": "code",
   "execution_count": null,
   "metadata": {},
   "outputs": [],
   "source": [
    "lifting_restored = restoration.richardson_lucy(lifting_bezier_blurred, psf_bezier, iterations=iterations)\n",
    "psnr_py = compare_psnr_crop(liftingbody, lifting_restored)\n",
    "\n",
    "deconv_bezier = richardson_lucy_matlab(lifting_bezier_blurred, psf_bezier, iterations=iterations, clip=True, useFFT=True, dampar=0.004)\n",
    "psnr_my = compare_psnr_crop(liftingbody, deconv_bezier['image'])"
   ]
  },
  {
   "cell_type": "code",
   "execution_count": null,
   "metadata": {},
   "outputs": [],
   "source": [
    "show_results(lifting_bezier_blurred, lifting_restored, deconv_bezier['image'],\n",
    "            titles=['Blurred image', 'Restored with python LR\\nPSNR={0}'.format(psnr_py), 'Restored with my LR\\nPSNR={0}'.format(psnr_my)])"
   ]
  },
  {
   "cell_type": "markdown",
   "metadata": {},
   "source": [
    "### Кепстр"
   ]
  },
  {
   "cell_type": "code",
   "execution_count": null,
   "metadata": {},
   "outputs": [],
   "source": [
    "s_n, S_find = find_noise(lifting_bezier_blurred)\n",
    "print(s_n, S_find)"
   ]
  },
  {
   "cell_type": "code",
   "execution_count": null,
   "metadata": {},
   "outputs": [],
   "source": [
    "#N,M = lifting_bezier_blurred.shape\n",
    "# ( ifft2 (100* log (1+ abs ( fft2 ( I ) ) ) ) ) ;\n",
    "K = np.real(np.fft.ifftn(100*np.log(1+np.abs(np.fft.fftn(lifting_bezier_blurred)))))\n",
    "#K_shift = K\n",
    "K_shift = np.fft.fftshift(K)"
   ]
  },
  {
   "cell_type": "code",
   "execution_count": null,
   "metadata": {},
   "outputs": [],
   "source": [
    "r,c = np.unravel_index(np.argmin(K_shift, axis=None), K_shift.shape)\n",
    "nn = np.argmin(np.real(K_shift))\n",
    "n, m, = K_shift.shape\n",
    "x2 = np.array([c - n//2, r - m//2])\n",
    "if x2[0]<0:\n",
    "    x2 = -x2\n",
    "x1 = x2/2\n",
    "print(x2)"
   ]
  },
  {
   "cell_type": "code",
   "execution_count": null,
   "metadata": {},
   "outputs": [],
   "source": [
    "plt.figure(figsize=(10,10))\n",
    "plt.imshow(np.clip(np.real(K_shift),-1,1))#, vmin=noisy.min(), vmax=noisy.max())\n",
    "plt.plot(n//2 + x2[0], m//2 + x2[1], 'ro')\n",
    "plt.title('Кепстр изображения с выделенным минмиумом')\n",
    "plt.savefig('{0}-kepstr.png'.format(prefix))\n",
    "plt.show()"
   ]
  },
  {
   "cell_type": "code",
   "execution_count": null,
   "metadata": {},
   "outputs": [],
   "source": [
    "x0 = np.concatenate((x1, x2))\n",
    "print(x0)"
   ]
  },
  {
   "cell_type": "markdown",
   "metadata": {},
   "source": [
    "### Минимизация"
   ]
  },
  {
   "cell_type": "code",
   "execution_count": null,
   "metadata": {},
   "outputs": [],
   "source": [
    "def funcToMinimizeCurved(xy, I_blurred, crop=100, *args, **kwargs):\n",
    "    print(xy)\n",
    "    psf = bezier_psf2(xy, n=100)\n",
    "    restored = richardson_lucy_matlab(I_blurred, psf, *args, **kwargs)\n",
    "    I_restored = restored['image']\n",
    "    df = fftconvolve(I_restored, psf, 'same') - I_blurred\n",
    "    return np.mean(np.square(df[crop:-crop, crop:-crop]))\n",
    "#partial(funcToMinimizeCurved, I_blurred=lifting_bezier_blurred, iterations=iterations, eps=1e-5, dampar=s_n, useFFT=True)([0, 10, 10, 10])"
   ]
  },
  {
   "cell_type": "raw",
   "metadata": {},
   "source": [
    "#x0 = [30, 0, 20, 20]\n",
    "res_tnc = minimize(partial(funcToMinimizeCurved, I_blurred=lifting_bezier_blurred, iterations=iterations, eps=1e-5, dampar=10*s_n, useFFT=True),\n",
    "                   options={'eps':.5}, x0=x0, method='TNC', callback=lambda x: print(x))\n",
    "print(res_tnc)\n",
    "\n",
    "# [(12.0, 10.0), (20.0, 20.0)]\n",
    "# [(12.0, 10.0), (20.0, 20.0)]\n",
    "# [(12.00000001, 10.0), (20.0, 20.0)]\n",
    "# [(12.0, 10.00000001), (20.0, 20.0)]\n",
    "# [(12.0, 10.0), (20.00000001, 20.0)]\n",
    "# [(12.0, 10.0), (20.0, 20.00000001)]\n",
    "# [(12.0, 10.0), (20.0, 20.0)]\n",
    "# [(12.0, 10.0), (20.0, 20.0)]\n",
    "# [(12.00000001, 10.0), (20.0, 20.0)]\n",
    "# [(12.0, 10.00000001), (20.0, 20.0)]\n",
    "# [(12.0, 10.0), (20.00000001, 20.0)]\n",
    "# [(12.0, 10.0), (20.0, 20.00000001)]\n",
    "#      fun: 0.00502600166295737\n",
    "#      jac: array([0., 0., 0., 0.])\n",
    "#  message: 'Local minimum reached (|pg| ~= 0)'\n",
    "#     nfev: 1\n",
    "#      nit: 0\n",
    "#   status: 0\n",
    "#  success: True\n",
    "#        x: array([12., 10., 20., 20.])\n",
    "# ```"
   ]
  },
  {
   "cell_type": "raw",
   "metadata": {},
   "source": [
    "deconv_orig = richardson_lucy_matlab(lifting_bezier_blurred, psf_bezier, iterations=iterations, dampar=s_n, useFFT=False)\n",
    "psnr_orig = compare_psnr(liftingbody, deconv_orig['image'])\n",
    "\n",
    "psf_init = bezier_psf2(x0)\n",
    "deconv_init = richardson_lucy_matlab(lifting_bezier_blurred, psf_init, iterations=iterations, dampar=s_n, useFFT=False)\n",
    "psnr_init = compare_psnr(liftingbody, deconv_init['image'])\n",
    "\n",
    "points_found = res_tnc['x']\n",
    "psf_found = bezier_psf2(points_found)\n",
    "deconv_found = richardson_lucy_matlab(lifting_bezier_blurred, psf_found, iterations=iterations, dampar=s_n, useFFT=False)\n",
    "psnr_found = compare_psnr(liftingbody, deconv_found['image'])\n",
    "\n",
    "show_results(deconv_orig['image'], deconv_init['image'], deconv_found['image'],\n",
    "             titles=['Restored with true psf\\nPSNR={0}\\ncoord={1}'.format(psnr_orig, points_real), \n",
    "                     'With initial approxiamtion\\nPSNR={0}\\ncoord={1}'.format(psnr_init, x0),\n",
    "                     'Minimized error\\nPSNR={0}\\ncoord={1}'.format(psnr_found, res_tnc['x'])])"
   ]
  },
  {
   "cell_type": "raw",
   "metadata": {},
   "source": [
    "res_cg = minimize(partial(funcToMinimizeCurved, I_blurred=lifting_bezier_blurred, iterations=iterations, eps=1e-5, dampar=s_n, useFFT=True),\n",
    "                   options={'eps':1}, x0=x0, method='CG')\n",
    "print(res_cg)"
   ]
  },
  {
   "cell_type": "code",
   "execution_count": null,
   "metadata": {},
   "outputs": [],
   "source": [
    "def funcToMinimizeCurved2(xy, I_blurred, xy2, crop=100, *args, **kwargs):\n",
    "    psf = bezier_psf2(np.concatenate((np.array(xy), np.array(xy2))))\n",
    "    restored = richardson_lucy_matlab(I_blurred, psf, *args, **kwargs)\n",
    "    I_restored = restored['image']\n",
    "    df = convolve2d(I_restored, psf, 'same') - I_blurred\n",
    "    return np.mean(np.square(df[crop:-crop, crop:-crop]))"
   ]
  },
  {
   "cell_type": "code",
   "execution_count": null,
   "metadata": {},
   "outputs": [],
   "source": [
    "f = partial(funcToMinimizeCurved2, I_blurred=lifting_bezier_blurred, xy2=x2, iterations=iterations, eps=1e-5, dampar=10*s_n, clip=True, useFFT=True)"
   ]
  },
  {
   "cell_type": "markdown",
   "metadata": {},
   "source": [
    "Scale=2 => 1 час <img src='pic/optimization_useless_x2.png'>\n",
    "Scale=4 => 5 часов <img src='pic/optimization_useless_x4.png'>"
   ]
  },
  {
   "cell_type": "code",
   "execution_count": null,
   "metadata": {},
   "outputs": [],
   "source": [
    "pickle_filename = \"matrix4.pickle\"\n",
    "scale = 4\n",
    "if os.path.isfile(pickle_filename):\n",
    "    with open(pickle_filename, 'rb') as a_file:\n",
    "        a = pickle.load(a_file)\n",
    "else:\n",
    "    a = np.ones((scale*x2[1], scale*x2[0]))\n",
    "    for yy in tqdm_notebook(range(scale*x2[1])):\n",
    "        for xx in range(scale*x2[0]):\n",
    "            val = f(np.array([xx/scale,yy/scale]))\n",
    "            print(yy/scale, xx/scale, val)\n",
    "            a[yy,xx] = val\n",
    "    with open(pickle_filename, 'wb') as a_file:\n",
    "        pickle.dump(a, a_file)"
   ]
  },
  {
   "cell_type": "code",
   "execution_count": null,
   "metadata": {},
   "outputs": [],
   "source": [
    "r, c = np.unravel_index(np.argmin(a, axis=None), a.shape)"
   ]
  },
  {
   "cell_type": "code",
   "execution_count": null,
   "metadata": {},
   "outputs": [],
   "source": [
    "plt.figure(figsize=(6,6))\n",
    "fig = plt.imshow(a, 'gray')\n",
    "plt.title('Cost function value for second point coordinates,\\ndarker is better')\n",
    "plt.plot(points_real[0]*scale, points_real[1]*scale, 'ro')\n",
    "plt.plot(c, r,'go')\n",
    "plt.legend(['real','min'], loc='lower right')\n",
    "fig.axes.get_xaxis().set_visible(False)\n",
    "fig.axes.get_yaxis().set_visible(False)\n",
    "plt.savefig('{0}-optimization_useless_x{1}.png'.format(prefix, scale))\n",
    "plt.show()"
   ]
  },
  {
   "cell_type": "raw",
   "metadata": {
    "ExecuteTime": {
     "end_time": "2018-05-26T19:29:41.953777Z",
     "start_time": "2018-05-26T19:29:41.238356Z"
    }
   },
   "source": [
    "a = np.array([[5.39031752e-05, 5.76432923e-05, 5.22516343e-05, 3.68643037e-05,\n",
    "        5.26713462e-05, 5.19347521e-05, 4.19149979e-05, 3.67568863e-05,\n",
    "        3.06235584e-05, 2.79793733e-05, 2.67491409e-05, 3.11435787e-05,\n",
    "        2.92620047e-05, 2.86248864e-05, 1.56195156e-05, 2.63637211e-05,\n",
    "        1.74909676e-05, 1.54752298e-05, 1.35272458e-05, 1.67045467e-05],\n",
    "       [2.50665985e-05, 5.06226244e-05, 5.75376025e-05, 4.89592100e-05,\n",
    "        5.23869614e-05, 4.38160472e-05, 4.87852336e-05, 3.85914950e-05,\n",
    "        4.61432533e-05, 3.46914008e-05, 3.54875432e-05, 2.73001678e-05,\n",
    "        2.97402906e-05, 1.78746977e-05, 2.17305986e-05, 1.60249949e-05,\n",
    "        1.61680173e-05, 1.73984318e-05, 1.72164638e-05, 1.62794414e-05],\n",
    "       [4.88742533e-05, 3.49237544e-05, 5.35295138e-05, 5.65340128e-05,\n",
    "        4.06938285e-05, 5.24038971e-05, 4.90335893e-05, 4.84165373e-05,\n",
    "        3.68817434e-05, 3.68080148e-05, 3.76261669e-05, 2.30893337e-05,\n",
    "        2.48535067e-05, 2.99575884e-05, 2.62598878e-05, 2.20514501e-05,\n",
    "        1.51192319e-05, 2.08835745e-05, 1.62833174e-05, 1.58251714e-05],\n",
    "       [5.54814527e-05, 5.46702019e-05, 2.44314086e-05, 5.88317834e-05,\n",
    "        6.41190448e-05, 4.91406718e-05, 5.42618823e-05, 4.15629568e-05,\n",
    "        4.32060641e-05, 4.21391700e-05, 3.10546999e-05, 2.60110412e-05,\n",
    "        3.24063660e-05, 2.87823352e-05, 2.05606280e-05, 2.29372682e-05,\n",
    "        2.28234322e-05, 1.46382269e-05, 1.90315489e-05, 1.38803036e-05],\n",
    "       [4.73970820e-05, 5.38202790e-05, 5.19017164e-05, 2.70325842e-05,\n",
    "        5.69247843e-05, 6.62334846e-05, 4.91406718e-05, 4.92586051e-05,\n",
    "        4.18071278e-05, 3.71063759e-05, 3.51347265e-05, 3.69988034e-05,\n",
    "        2.84592992e-05, 2.88052208e-05, 3.00139971e-05, 2.06459603e-05,\n",
    "        1.79257463e-05, 2.27005317e-05, 1.62318969e-05, 1.83998012e-05],\n",
    "       [5.08649651e-05, 4.84153857e-05, 5.25108731e-05, 5.89781955e-05,\n",
    "        3.49237544e-05, 6.37819522e-05, 6.13566261e-05, 4.82291273e-05,\n",
    "        4.71921058e-05, 4.46156415e-05, 3.67631794e-05, 3.33281413e-05,\n",
    "        2.87216688e-05, 2.42180086e-05, 2.71429236e-05, 1.98403755e-05,\n",
    "        2.58595407e-05, 1.76363143e-05, 1.72247818e-05, 1.47395115e-05],\n",
    "       [4.75466533e-05, 5.07015641e-05, 5.20076310e-05, 5.19923855e-05,\n",
    "        5.16919504e-05, 3.17832903e-05, 5.91441202e-05, 4.90245161e-05,\n",
    "        5.08782673e-05, 4.65328698e-05, 4.04177917e-05, 3.75291590e-05,\n",
    "        3.14264703e-05, 2.79886185e-05, 2.59075975e-05, 2.95641153e-05,\n",
    "        2.19145774e-05, 2.01715202e-05, 2.11590351e-05, 2.00895196e-05],\n",
    "       [4.83306924e-05, 4.01557840e-05, 4.97209342e-05, 4.82815635e-05,\n",
    "        5.19203522e-05, 4.99245927e-05, 3.04544557e-05, 5.43670823e-05,\n",
    "        5.46995814e-05, 4.72580603e-05, 4.74392336e-05, 4.18832515e-05,\n",
    "        4.38667547e-05, 3.47791967e-05, 2.57064780e-05, 2.89505707e-05,\n",
    "        2.19043610e-05, 2.17273429e-05, 1.95518629e-05, 1.87655220e-05],\n",
    "       [4.16689182e-05, 4.51859149e-05, 4.58634944e-05, 4.97209342e-05,\n",
    "        4.28483067e-05, 5.13357959e-05, 4.75228832e-05, 3.75637828e-05,\n",
    "        4.86491128e-05, 5.51913828e-05, 5.07113049e-05, 4.47978870e-05,\n",
    "        4.03752119e-05, 3.58992440e-05, 3.16087359e-05, 2.97708010e-05,\n",
    "        2.65349969e-05, 2.88870878e-05, 2.54663708e-05, 2.45304724e-05],\n",
    "       [3.76644675e-05, 3.67434776e-05, 4.28961782e-05, 3.54756507e-05,\n",
    "        4.65646661e-05, 4.10755310e-05, 4.91905561e-05, 3.85796036e-05,\n",
    "        2.90856425e-05, 3.86799665e-05, 5.22516343e-05, 4.89858715e-05,\n",
    "        4.51691942e-05, 3.95958603e-05, 3.76248009e-05, 3.28579364e-05,\n",
    "        3.23191400e-05, 2.67756714e-05, 2.61643000e-05, 2.40602913e-05],\n",
    "       [3.32850069e-05, 3.51461741e-05, 3.08536980e-05, 4.30316190e-05,\n",
    "        4.23033212e-05, 4.58795396e-05, 4.51364028e-05, 5.03480195e-05,\n",
    "        4.81987132e-05, 3.97424273e-05, 4.23069276e-05, 4.74520910e-05,\n",
    "        4.87539915e-05, 4.33401614e-05, 4.10994884e-05, 3.34967500e-05,\n",
    "        3.44075693e-05, 3.02135696e-05, 3.25163876e-05, 2.26844871e-05],\n",
    "       [2.78472013e-05, 2.67350219e-05, 3.70950255e-05, 3.50327727e-05,\n",
    "        3.88963099e-05, 3.29255735e-05, 4.45037520e-05, 3.96351847e-05,\n",
    "        4.88879926e-05, 4.74185636e-05, 2.97723833e-05, 4.42590084e-05,\n",
    "        4.84621737e-05, 5.33614273e-05, 4.56419071e-05, 4.31915040e-05,\n",
    "        3.85357467e-05, 3.85181264e-05, 2.84535561e-05, 2.94392582e-05],\n",
    "       [3.12485815e-05, 2.91319290e-05, 3.18218049e-05, 3.11616695e-05,\n",
    "        3.62200166e-05, 3.72814209e-05, 3.96162541e-05, 4.24158397e-05,\n",
    "        4.27656499e-05, 4.77395862e-05, 4.07686543e-05, 2.99354996e-05,\n",
    "        3.04153109e-05, 4.83172566e-05, 5.33284220e-05, 4.14798845e-05,\n",
    "        4.14851305e-05, 3.25503824e-05, 3.72488587e-05, 3.08754028e-05],\n",
    "       [2.63755447e-05, 3.10234210e-05, 3.07754787e-05, 3.14149391e-05,\n",
    "        2.85098200e-05, 3.08523973e-05, 3.22218909e-05, 4.01384686e-05,\n",
    "        3.65763593e-05, 4.30646886e-05, 4.73178490e-05, 4.67746209e-05,\n",
    "        4.76009107e-05, 3.79197894e-05, 4.53143139e-05, 4.94468661e-05,\n",
    "        3.63531721e-05, 4.41125118e-05, 4.00509775e-05, 3.76052809e-05],\n",
    "       [2.79384339e-05, 2.55702897e-05, 2.40935983e-05, 2.50100663e-05,\n",
    "        2.72213555e-05, 3.20788845e-05, 2.62501580e-05, 3.83458447e-05,\n",
    "        4.52586502e-05, 4.20982107e-05, 4.14734746e-05, 4.37627316e-05,\n",
    "        5.05472246e-05, 4.54510956e-05, 3.15449827e-05, 4.57243303e-05,\n",
    "        5.21960264e-05, 4.72658709e-05, 4.41125118e-05, 3.90457370e-05],\n",
    "       [2.19669465e-05, 2.55626626e-05, 2.36838096e-05, 2.75084360e-05,\n",
    "        2.45331787e-05, 3.45910870e-05, 2.92690431e-05, 2.93859884e-05,\n",
    "        3.18843577e-05, 3.31434843e-05, 4.11482225e-05, 4.14734746e-05,\n",
    "        4.57450002e-05, 3.79379687e-05, 4.92547574e-05, 3.89983879e-05,\n",
    "        4.52489328e-05, 5.55592867e-05, 4.68610571e-05, 5.20438817e-05],\n",
    "       [2.29610227e-05, 2.21092805e-05, 2.36383114e-05, 2.23983422e-05,\n",
    "        3.04440161e-05, 2.17059415e-05, 2.72528902e-05, 2.57235270e-05,\n",
    "        2.95699557e-05, 3.37940101e-05, 3.74973165e-05, 4.26861591e-05,\n",
    "        4.25905695e-05, 4.30001619e-05, 5.16424668e-05, 5.35295138e-05,\n",
    "        2.70813474e-05, 5.56433921e-05, 5.58132404e-05, 4.47989394e-05],\n",
    "       [2.08678660e-05, 2.52718458e-05, 2.13788761e-05, 2.71719084e-05,\n",
    "        2.28542764e-05, 2.33310323e-05, 2.94117232e-05, 2.61416446e-05,\n",
    "        2.79847909e-05, 3.41232587e-05, 3.18651384e-05, 3.58988951e-05,\n",
    "        3.68911872e-05, 4.22882241e-05, 4.31334185e-05, 5.37940278e-05,\n",
    "        5.60185656e-05, 2.58345611e-05, 4.41950013e-05, 5.28582764e-05],\n",
    "       [2.33618111e-05, 2.03076026e-05, 2.48390791e-05, 1.98054200e-05,\n",
    "        2.67067961e-05, 2.45167212e-05, 2.20188868e-05, 2.74187125e-05,\n",
    "        3.09573571e-05, 2.48012473e-05, 2.95084941e-05, 4.19261478e-05,\n",
    "        3.98759840e-05, 3.55035637e-05, 4.86117709e-05, 4.31334185e-05,\n",
    "        5.54077317e-05, 5.25489723e-05, 2.38017959e-05, 5.02890355e-05],\n",
    "       [1.96051281e-05, 2.16339034e-05, 2.14844082e-05, 2.32266510e-05,\n",
    "        2.01492958e-05, 2.25283316e-05, 2.53016022e-05, 2.91355656e-05,\n",
    "        2.46297648e-05, 2.24369535e-05, 3.52569396e-05, 3.49406189e-05,\n",
    "        3.22691770e-05, 4.60320823e-05, 4.18158857e-05, 4.12842328e-05,\n",
    "        3.39357152e-05, 4.73076433e-05, 6.57983981e-05, 2.45977545e-05],\n",
    "       [1.97716410e-05, 2.13312680e-05, 2.16740993e-05, 2.05551701e-05,\n",
    "        2.05531530e-05, 1.89694166e-05, 2.22562276e-05, 1.91262432e-05,\n",
    "        2.53362966e-05, 2.66146690e-05, 3.10932098e-05, 2.90050009e-05,\n",
    "        3.91092654e-05, 3.27442738e-05, 3.95947922e-05, 3.78471013e-05,\n",
    "        4.33153648e-05, 4.35527638e-05, 4.98774205e-05, 5.69134572e-05]])"
   ]
  },
  {
   "cell_type": "code",
   "execution_count": null,
   "metadata": {},
   "outputs": [],
   "source": [
    "points_found = np.concatenate(([c/scale,r/scale], x2))#[(deg-1)*sz//deg-1, sz//deg, sz-1, sz-1]\n",
    "print(points_found)\n",
    "psf_found = bezier_psf2(points_found)"
   ]
  },
  {
   "cell_type": "code",
   "execution_count": null,
   "metadata": {},
   "outputs": [],
   "source": [
    "f([c/scale,r/scale]), f(points_real[:2])"
   ]
  },
  {
   "cell_type": "code",
   "execution_count": null,
   "metadata": {},
   "outputs": [],
   "source": [
    "#%matplotlib notebook\n",
    "%matplotlib inline\n",
    "\n",
    "from mpl_toolkits.mplot3d import Axes3D\n",
    "X, Y = np.meshgrid(range(a.shape[1]),range(a.shape[0]))\n",
    "\n",
    "fig = plt.figure(figsize=(10,10))\n",
    "ax = fig.gca(projection='3d')\n",
    "ax.plot_surface(X, Y, a)\n",
    "plt.show()"
   ]
  },
  {
   "cell_type": "code",
   "execution_count": null,
   "metadata": {},
   "outputs": [],
   "source": [
    "deconv_orig = richardson_lucy_matlab(lifting_bezier_blurred, psf_bezier, iterations=iterations, dampar=s_n, useFFT=False)\n",
    "psnr_orig = compare_psnr_crop(liftingbody, deconv_orig['image'])\n",
    "\n",
    "psf_init = bezier_psf2(x0)\n",
    "deconv_init = richardson_lucy_matlab(lifting_bezier_blurred, psf_init, iterations=iterations, dampar=s_n, useFFT=False)\n",
    "psnr_init = compare_psnr_crop(liftingbody, deconv_init['image'])\n",
    "\n",
    "#points_found = res_tnc['x']\n",
    "#psf_found = bezier_psf2(points_found)\n",
    "deconv_found = richardson_lucy_matlab(lifting_bezier_blurred, psf_found, iterations=iterations, dampar=s_n, useFFT=False)\n",
    "psnr_found = compare_psnr_crop(liftingbody, deconv_found['image'])\n",
    "\n",
    "show_results(deconv_orig['image'], deconv_init['image'], deconv_found['image'],\n",
    "             titles=['Restored with true psf\\nPSNR={0}\\ncoord={1}'.format(psnr_orig.round(2), points_real), \n",
    "                     'With initial approxiamtion\\nPSNR={0}\\ncoord={1}'.format(psnr_init.round(2), x0),\n",
    "                     'Minimized error\\nPSNR={0}\\ncoord={1}'.format(psnr_found.round(2), points_found)],\n",
    "            savefig=\"{0}-curved-grid.png\".format(prefix))"
   ]
  },
  {
   "cell_type": "code",
   "execution_count": null,
   "metadata": {},
   "outputs": [],
   "source": [
    "#x0 = [12, 10, 20, 20]\n",
    "res_nelder = minimize(partial(funcToMinimizeCurved2, I_blurred=lifting_bezier_blurred, xy2=x2, iterations=iterations, eps=1e-5, dampar=s_n, useFFT=True),\n",
    "                      x0=x1, method='Nelder-Mead', options={'xtol': 1e-3, 'disp': True})\n",
    "print(res_nelder)"
   ]
  },
  {
   "cell_type": "code",
   "execution_count": null,
   "metadata": {},
   "outputs": [],
   "source": [
    "x1, points_real"
   ]
  },
  {
   "cell_type": "code",
   "execution_count": null,
   "metadata": {},
   "outputs": [],
   "source": [
    "deconv_orig = richardson_lucy_matlab(lifting_bezier_blurred, psf_bezier, iterations=iterations, dampar=s_n, useFFT=False)\n",
    "psnr_orig = compare_psnr_crop(liftingbody, deconv_orig['image'])\n",
    "\n",
    "psf_init = bezier_psf2(x0)\n",
    "deconv_init = richardson_lucy_matlab(lifting_bezier_blurred, psf_init, iterations=iterations, dampar=s_n, useFFT=False)\n",
    "psnr_init = compare_psnr_crop(liftingbody, deconv_init['image'])\n",
    "\n",
    "points_found = res_nelder['x']\n",
    "psf_found = bezier_psf2(points_found)\n",
    "deconv_found = richardson_lucy_matlab(lifting_bezier_blurred, psf_found, iterations=iterations, dampar=s_n, useFFT=False)\n",
    "psnr_found = compare_psnr_crop(liftingbody, deconv_found['image'])\n",
    "\n",
    "show_results(deconv_orig['image'], deconv_init['image'], deconv_found['image'],\n",
    "             titles=['Restored with true psf\\nPSNR={0}\\ncoord={1}'.format(psnr_orig.round(2), points_real), \n",
    "                     'With initial approxiamtion\\nPSNR={0}\\ncoord={1}'.format(psnr_init.round(2), x0),\n",
    "                     'Minimized error\\nPSNR={0}\\ncoord={1}'.format(psnr_found.round(2), res_nelder['x'])])"
   ]
  },
  {
   "cell_type": "markdown",
   "metadata": {},
   "source": [
    "* Запустить градиентный метод\n",
    "* Сделать мощный edgetaper\n",
    "* Сделать антиалиасинг psf"
   ]
  }
 ],
 "metadata": {
  "kernelspec": {
   "display_name": "Python 3",
   "language": "python",
   "name": "python3"
  },
  "language_info": {
   "codemirror_mode": {
    "name": "ipython",
    "version": 3
   },
   "file_extension": ".py",
   "mimetype": "text/x-python",
   "name": "python",
   "nbconvert_exporter": "python",
   "pygments_lexer": "ipython3",
   "version": "3.6.5"
  },
  "toc": {
   "nav_menu": {},
   "number_sections": true,
   "sideBar": true,
   "skip_h1_title": false,
   "toc_cell": false,
   "toc_position": {
    "height": "802px",
    "left": "0px",
    "right": "1641px",
    "top": "111px",
    "width": "212px"
   },
   "toc_section_display": "block",
   "toc_window_display": true
  }
 },
 "nbformat": 4,
 "nbformat_minor": 2
}

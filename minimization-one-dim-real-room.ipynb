{
 "cells": [
  {
   "cell_type": "markdown",
   "metadata": {},
   "source": [
    "# Одномерная минимизация криловлинейной psf.\n",
    "* поиск дальней точки через кепстр\n",
    "* начальное приближение - полный перебор на срединном перпендикуляре\n",
    "* уточнение градиентным спуском по очереди\n",
    "<img src=\"pic/minimization_ill.png\">\n",
    "\n",
    "Время работы: 6:24"
   ]
  },
  {
   "cell_type": "code",
   "execution_count": null,
   "metadata": {},
   "outputs": [],
   "source": [
    "import numpy as np\n",
    "from skimage import color, data, restoration, img_as_float, io\n",
    "from skimage.restoration import richardson_lucy\n",
    "from skimage.measure import compare_psnr\n",
    "\n",
    "from scipy.signal import convolve2d\n",
    "from scipy.optimize import minimize\n",
    "\n",
    "from functools import partial\n",
    "from tqdm import tqdm_notebook\n",
    "\n",
    "from util import *\n",
    "from richardson_lucy import *"
   ]
  },
  {
   "cell_type": "code",
   "execution_count": null,
   "metadata": {},
   "outputs": [],
   "source": [
    "prefix = \"pic/one-dim-room1\""
   ]
  },
  {
   "cell_type": "code",
   "execution_count": null,
   "metadata": {},
   "outputs": [],
   "source": [
    "blurred = color.rgb2gray(io.imread('input/test7.jpg'))\n",
    "iterations = 30"
   ]
  },
  {
   "cell_type": "code",
   "execution_count": null,
   "metadata": {},
   "outputs": [],
   "source": [
    "s_n, S_find = find_noise(blurred)\n",
    "s_n"
   ]
  },
  {
   "cell_type": "code",
   "execution_count": null,
   "metadata": {},
   "outputs": [],
   "source": [
    "N,M = blurred.shape\n",
    "K = np.fft.ifftn(100*np.log(1+np.abs(np.fft.fftn(blurred))))\n",
    "K_shift = np.fft.fftshift(K)\n",
    "\n",
    "#K_shift[N//2,:] = 0\n",
    "#K_shift[:,M//2] = 0\n",
    "\n",
    "n, m, = K_shift.shape\n",
    "r, c = np.unravel_index(np.argmin(K_shift, axis=None), K_shift.shape)\n",
    "x0_2 = np.array([c - m//2, r - n//2])\n",
    "\n",
    "if x0_2[0]<0:\n",
    "    x0_2 = -x0_2\n",
    "x0_1 = x0_2/2# + np.array([4,-4])\n",
    "x0 = np.concatenate((x0_1, x0_2))\n",
    "print(x0)"
   ]
  },
  {
   "cell_type": "code",
   "execution_count": null,
   "metadata": {},
   "outputs": [],
   "source": [
    "show_and_save_image(np.clip(np.real(K_shift),-1,1),\n",
    "                    plot_arr=[[c, r, 'r.']],\n",
    "                    fname=\"{0}-kepstr.png\".format(prefix))"
   ]
  },
  {
   "cell_type": "code",
   "execution_count": null,
   "metadata": {},
   "outputs": [],
   "source": [
    "N,M = blurred.shape\n",
    "K = np.fft.ifftn(100*np.log(1+np.abs(np.fft.fftn(blurred))))\n",
    "K_shift = np.fft.fftshift(K)\n",
    "\n",
    "n, m, = K_shift.shape\n",
    "\n",
    "mask_sigma = 4\n",
    "XX, YY = np.meshgrid(range(m), range(n))\n",
    "gauss_mask = np.exp(-((XX-m//2)**2 + (YY-n//2)**2) / (2*mask_sigma**2))\n",
    "K_shift -= K_shift*gauss_mask\n",
    "\n",
    "r, c = np.unravel_index(np.argmin(K_shift, axis=None), K_shift.shape)\n",
    "x0_2 = np.array([c - m//2, r - n//2])\n",
    "\n",
    "if x0_2[0]<0:\n",
    "    x0_2 = -x0_2\n",
    "x0_1 = x0_2/2# + np.array([4,-4])\n",
    "x0 = np.concatenate((x0_1, x0_2))\n",
    "print(x0)"
   ]
  },
  {
   "cell_type": "code",
   "execution_count": null,
   "metadata": {},
   "outputs": [],
   "source": [
    "sz = 300\n",
    "plt.figure(figsize=(10,10))\n",
    "plt.imshow(np.clip(np.real(K_shift[N//2-sz:N//2+sz, M//2-sz:M//2+sz]),-1,1), 'gray')\n",
    "plt.show()"
   ]
  },
  {
   "cell_type": "code",
   "execution_count": null,
   "metadata": {},
   "outputs": [],
   "source": [
    "show_and_save_image(np.clip(np.real(K_shift),-1,1),\n",
    "                    plot_arr=[[c, r, 'r.']],\n",
    "                    fname=\"{0}-kepstr-with-guass.png\".format(prefix))"
   ]
  },
  {
   "cell_type": "code",
   "execution_count": null,
   "metadata": {},
   "outputs": [],
   "source": [
    "x1_vec = np.array([x0_2[1], -x0_2[0]])\n",
    "x1_vec = x1_vec / vec_len(x1_vec)\n",
    "print(x1_vec)"
   ]
  },
  {
   "cell_type": "code",
   "execution_count": null,
   "metadata": {},
   "outputs": [],
   "source": [
    "cost_fun = partial(funcToMinimizeCurvedNormal, xy2=x0_2, I_blurred=blurred, \n",
    "                   iterations=iterations, eps=1e-5, dampar=s_n)"
   ]
  },
  {
   "cell_type": "code",
   "execution_count": null,
   "metadata": {},
   "outputs": [],
   "source": [
    "L = vec_len(x0_2)\n",
    "distances = np.linspace(-L/2, L/2, 30)\n",
    "best_val = 1e9 #+inf\n",
    "best_dist = 0\n",
    "for dist in distances:\n",
    "    val = cost_fun(dist)\n",
    "    if val < best_val:\n",
    "        best_dist = dist\n",
    "        best_val = val"
   ]
  },
  {
   "cell_type": "code",
   "execution_count": null,
   "metadata": {},
   "outputs": [],
   "source": [
    "best_dist, best_val"
   ]
  },
  {
   "cell_type": "code",
   "execution_count": null,
   "metadata": {},
   "outputs": [],
   "source": [
    "point2 = second_point(x0_2, best_dist)\n",
    "points_found = np.concatenate((point2, x0_2))\n",
    "print(points_found)"
   ]
  },
  {
   "cell_type": "code",
   "execution_count": null,
   "metadata": {},
   "outputs": [],
   "source": [
    "deconv_orig = richardson_lucy_matlab(blurred, psf_bezier, iterations=iterations, \n",
    "                                     dampar=s_n)\n",
    "psnr_orig = compare_psnr_crop(blurred, deconv_orig['image'])\n",
    "\n",
    "psf_init = bezier_psf2(x0)\n",
    "deconv_init = richardson_lucy_matlab(blurred, psf_init, iterations=iterations, \n",
    "                                     dampar=s_n)\n",
    "psnr_init = compare_psnr_crop(blurred, deconv_init['image'])\n",
    "\n",
    "#points_found = res_my_grad2['x']\n",
    "psf_found = bezier_psf2(points_found)\n",
    "deconv_found = richardson_lucy_matlab(blurred, psf_found, iterations=iterations, \n",
    "                                      dampar=s_n)\n",
    "psnr_found = compare_psnr_crop(blurred, deconv_found['image'])\n",
    "\n",
    "show_results(deconv_orig['image'], deconv_init['image'], deconv_found['image'],\n",
    "             titles=['Restored with true psf\\nPSNR={0}\\ncoord={1}'.format(psnr_orig.round(4), points_real), \n",
    "                     'With initial approxiamtion\\nPSNR={0}\\ncoord={1}'.format(psnr_init.round(4), x0.round(4)),\n",
    "                     'Minimized error\\nPSNR={0}\\ncoord={1}'.format(psnr_found.round(4), points_found.round(4))],\n",
    "             savefig='{0}.png'.format(prefix))"
   ]
  },
  {
   "cell_type": "code",
   "execution_count": null,
   "metadata": {},
   "outputs": [],
   "source": [
    "for image, title in [[deconv_orig['image'], '{0}-restored-true-psf.png'.format(prefix)],\n",
    "                     [deconv_init['image'], '{0}-restored-initial-approx.png'.format(prefix)],\n",
    "                     [deconv_found['image'], '{0}-restored-second-approx.png'.format(prefix)]]:\n",
    "    show_and_save_image(image, fname=title)"
   ]
  },
  {
   "cell_type": "code",
   "execution_count": null,
   "metadata": {},
   "outputs": [],
   "source": [
    "x1_1 = point2\n",
    "x1_2 = x0_2\n",
    "for it in range(4):\n",
    "    changed = False\n",
    "    # move third point\n",
    "    cost_fun1 = partial(funcToMinimizeCurved3, xy1=x1_1, I_blurred=blurred, \n",
    "                        iterations=iterations, eps=1e-5, dampar=s_n)\n",
    "    res1 = minimize_grad(cost_fun1, x0=x1_2, alpha=100, maxiter=5)\n",
    "    if not (x1_2 == res1.x).all():\n",
    "        changed = True\n",
    "    x1_2 = res1.x\n",
    "    print(x1_1, x1_2)\n",
    "    cost_fun2 = partial(funcToMinimizeCurved2, xy2=x1_2, I_blurred=blurred, \n",
    "                        iterations=iterations, eps=1e-5, dampar=s_n)\n",
    "    res2 = minimize_grad(cost_fun2, x0=x1_1, alpha=100, maxiter=5)\n",
    "    if not (x1_1 == res2.x).all():\n",
    "        changed = True\n",
    "    x1_1 = res2.x\n",
    "    print(x1_1, x1_2)\n",
    "    if not changed:\n",
    "        break"
   ]
  },
  {
   "cell_type": "code",
   "execution_count": null,
   "metadata": {},
   "outputs": [],
   "source": [
    "#deconv_orig = richardson_lucy_matlab(blurred, psf_bezier, iterations=iterations, \n",
    "#                                     dampar=s_n)\n",
    "#psnr_orig = compare_psnr_crop(blurred, deconv_orig['image'])\n",
    "\n",
    "psf_init = bezier_psf2(points_found)\n",
    "deconv_init = richardson_lucy_matlab(blurred, psf_init, iterations=iterations, \n",
    "                                     dampar=s_n)\n",
    "psnr_init = compare_psnr_crop(blurred, deconv_init['image'])\n",
    "\n",
    "points_found2 = np.concatenate((x1_1, x1_2))\n",
    "psf_found = bezier_psf2(points_found2)\n",
    "deconv_found = richardson_lucy_matlab(blurred, psf_found, iterations=iterations, \n",
    "                                      dampar=s_n)\n",
    "psnr_found = compare_psnr_crop(blurred, deconv_found['image'])\n",
    "\n",
    "show_results(deconv_orig['image'], deconv_init['image'], deconv_found['image'],\n",
    "             titles=['Restored with true psf\\nPSNR={0}\\ncoord={1}'.format(psnr_orig.round(4), points_real), \n",
    "                     'With one-dimensional search\\nPSNR={0}\\ncoord={1}'.format(psnr_init.round(4), points_found.round(4)),\n",
    "                     'Minimized error\\nPSNR={0}\\ncoord={1}'.format(psnr_found.round(4), points_found2.round(4))],\n",
    "             savefig='{0}-thiner.png'.format(prefix))"
   ]
  },
  {
   "cell_type": "code",
   "execution_count": null,
   "metadata": {},
   "outputs": [],
   "source": [
    "for image, title in [[deconv_found['image'], '{0}-restored-final.png'.format(prefix)]]:\n",
    "    show_and_save_image(image, fname=title)"
   ]
  },
  {
   "cell_type": "code",
   "execution_count": null,
   "metadata": {},
   "outputs": [],
   "source": [
    "plt.imshow(bezier_psf2(points_real))\n",
    "plt.show()"
   ]
  },
  {
   "cell_type": "code",
   "execution_count": null,
   "metadata": {},
   "outputs": [],
   "source": [
    "show_and_save_image(psf_found,\n",
    "                    #plot_arr=[[points_found2[0], points_found2[1], 'ro'],\n",
    "                    #          [points_found[0], points_found[1], 'go'],\n",
    "                    #          [points_found[2], points_found[3], 'go']],\n",
    "                    fname=\"{0}-curved-psf-found.png\".format(prefix))"
   ]
  },
  {
   "cell_type": "code",
   "execution_count": null,
   "metadata": {},
   "outputs": [],
   "source": [
    "plt.imshow(psf_found)\n",
    "plt.plot(points_found2[0], points_found2[1], 'ro')\n",
    "plt.plot(points_found[0], points_found[1], 'go')\n",
    "plt.plot(points_found[2], points_found[3], 'go')\n",
    "plt.show()"
   ]
  }
 ],
 "metadata": {
  "kernelspec": {
   "display_name": "Python 3",
   "language": "python",
   "name": "python3"
  },
  "language_info": {
   "codemirror_mode": {
    "name": "ipython",
    "version": 3
   },
   "file_extension": ".py",
   "mimetype": "text/x-python",
   "name": "python",
   "nbconvert_exporter": "python",
   "pygments_lexer": "ipython3",
   "version": "3.6.5"
  },
  "toc": {
   "nav_menu": {},
   "number_sections": true,
   "sideBar": true,
   "skip_h1_title": false,
   "toc_cell": false,
   "toc_position": {},
   "toc_section_display": "block",
   "toc_window_display": false
  }
 },
 "nbformat": 4,
 "nbformat_minor": 2
}

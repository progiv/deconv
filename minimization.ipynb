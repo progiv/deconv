{
 "cells": [
  {
   "cell_type": "code",
   "execution_count": null,
   "metadata": {},
   "outputs": [],
   "source": [
    "import numpy as np\n",
    "from skimage import color, data, restoration, img_as_float, io\n",
    "# import matplotlib.pyplot as plt\n",
    "from scipy.signal import convolve2d as conv2\n",
    "\n",
    "# from skimage import color, data, restoration\n",
    "# from skimage.restoration import uft\n",
    "# from scipy.signal import fftconvolve, convolve, convolve2d\n",
    "# from scipy.stats.stats import pearsonr\n",
    "# from numpy.fft import fftn, ifftn\n",
    "from skimage.measure import compare_psnr\n",
    "# from skimage.draw import bezier_curve\n",
    "# import scipy.ndimage.filters as fi\n",
    "# from itertools import chain\n",
    "# from skimage.draw import line_aa\n",
    "# from math import sin, cos, pi\n",
    "from functools import partial\n",
    "from scipy.optimize import minimize\n",
    "\n",
    "from util import *\n",
    "from richardson_lucy import *"
   ]
  },
  {
   "cell_type": "code",
   "execution_count": null,
   "metadata": {},
   "outputs": [],
   "source": [
    "from scipy.optimize import OptimizeResult"
   ]
  },
  {
   "cell_type": "code",
   "execution_count": null,
   "metadata": {},
   "outputs": [],
   "source": [
    "from multiprocessing import Pool"
   ]
  },
  {
   "cell_type": "code",
   "execution_count": null,
   "metadata": {},
   "outputs": [],
   "source": [
    "with Pool(processes=4) as pool:\n",
    "    res = pool.map(lambda x: x**2, range(4))\n",
    "    print(res.get(timeout=1))"
   ]
  },
  {
   "cell_type": "code",
   "execution_count": null,
   "metadata": {},
   "outputs": [],
   "source": [
    "def fun(x):\n",
    "    return np.sum((x-np.array([1,2]))**2)"
   ]
  },
  {
   "cell_type": "code",
   "execution_count": null,
   "metadata": {},
   "outputs": [],
   "source": [
    "x0 = np.array([-1, -1])\n",
    "xx = np.array([1, 2])"
   ]
  },
  {
   "cell_type": "code",
   "execution_count": null,
   "metadata": {},
   "outputs": [],
   "source": [
    "fun(xx), fun(x0)"
   ]
  },
  {
   "cell_type": "code",
   "execution_count": null,
   "metadata": {},
   "outputs": [],
   "source": [
    "def minimize_grad(fun, x0, grad=None, alpha=.5, ftol = 1e-9):\n",
    "    def gradient(x, step=1):\n",
    "        \"\"\"suppose x is of size 2\"\"\"\n",
    "        df = np.zeros(x.shape)\n",
    "        with Pool(processes=4) as pool:\n",
    "            for coord in range(x.size):\n",
    "                dx = np.zeros(x.shape)\n",
    "                dx[coord] = step\n",
    "                df[coord] = (fun(x + dx) - fun(x - dx)) / (2 * step)\n",
    "        return df\n",
    "    if grad is None:\n",
    "        grad = gradient\n",
    "    \n",
    "    fin = False\n",
    "    x = x0\n",
    "    prev_f = fun(x)\n",
    "    while not fin:\n",
    "        df = grad(x)\n",
    "        print(x, alpha, df)\n",
    "        x = x - alpha*df\n",
    "        cur_f = fun(x)\n",
    "        if abs(cur_f - prev_f) < ftol:\n",
    "            fin = True\n",
    "        prev_f = cur_f\n",
    "    return OptimizeResult(x=x)"
   ]
  },
  {
   "cell_type": "code",
   "execution_count": null,
   "metadata": {},
   "outputs": [],
   "source": [
    "def f_grad(x):\n",
    "    return np.array([2*(x[0]-1), 2*(x[1]-2)])"
   ]
  },
  {
   "cell_type": "code",
   "execution_count": null,
   "metadata": {},
   "outputs": [],
   "source": [
    "minimize_grad(fun, x0)"
   ]
  }
 ],
 "metadata": {
  "kernelspec": {
   "display_name": "Python 3",
   "language": "python",
   "name": "python3"
  },
  "language_info": {
   "codemirror_mode": {
    "name": "ipython",
    "version": 3
   },
   "file_extension": ".py",
   "mimetype": "text/x-python",
   "name": "python",
   "nbconvert_exporter": "python",
   "pygments_lexer": "ipython3",
   "version": "3.6.3"
  },
  "toc": {
   "nav_menu": {},
   "number_sections": true,
   "sideBar": true,
   "skip_h1_title": false,
   "toc_cell": false,
   "toc_position": {},
   "toc_section_display": "block",
   "toc_window_display": false
  }
 },
 "nbformat": 4,
 "nbformat_minor": 2
}

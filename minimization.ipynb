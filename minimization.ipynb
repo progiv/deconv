{
 "cells": [
  {
   "cell_type": "markdown",
   "metadata": {},
   "source": [
    "# Тестирование кастомного минимизатора градиентного спуска\n",
    "Время работы: 6:25"
   ]
  },
  {
   "cell_type": "code",
   "execution_count": null,
   "metadata": {},
   "outputs": [],
   "source": [
    "import numpy as np\n",
    "from skimage import color, data, restoration, img_as_float, io\n",
    "from scipy.signal import convolve2d as conv2\n",
    "\n",
    "from skimage.restoration import richardson_lucy\n",
    "from skimage.measure import compare_psnr\n",
    "from functools import partial\n",
    "from scipy.optimize import minimize\n",
    "from scipy.optimize import OptimizeResult\n",
    "from tqdm import tqdm_notebook\n",
    "\n",
    "from util import *\n",
    "from richardson_lucy import *"
   ]
  },
  {
   "cell_type": "code",
   "execution_count": null,
   "metadata": {},
   "outputs": [],
   "source": [
    "def fun(x):\n",
    "    return np.sum((x - np.array([1, 2]))**2)"
   ]
  },
  {
   "cell_type": "code",
   "execution_count": null,
   "metadata": {},
   "outputs": [],
   "source": [
    "x0 = np.array([-1, -1])\n",
    "xx = np.array([1, 2])"
   ]
  },
  {
   "cell_type": "code",
   "execution_count": null,
   "metadata": {},
   "outputs": [],
   "source": [
    "fun(xx), fun(x0)"
   ]
  },
  {
   "cell_type": "code",
   "execution_count": null,
   "metadata": {},
   "outputs": [],
   "source": [
    "def fun2(x):\n",
    "    return (x[0] - 5)**2 + 2 * (x[1] - 10)**2"
   ]
  },
  {
   "cell_type": "code",
   "execution_count": null,
   "metadata": {},
   "outputs": [],
   "source": [
    "minimize_grad(fun2, np.array([0, 0]), alpha=1, disp=True, maxit=100)"
   ]
  },
  {
   "cell_type": "code",
   "execution_count": null,
   "metadata": {},
   "outputs": [],
   "source": [
    "astro = color.rgb2gray(data.astronaut())\n",
    "liftingbody = img_as_float(io.imread('liftingbody.png'))\n",
    "iterations = 30"
   ]
  },
  {
   "cell_type": "code",
   "execution_count": null,
   "metadata": {},
   "outputs": [],
   "source": [
    "sz = 21\n",
    "deg = 5\n",
    "points_real = [(deg - 1) * sz // deg - 1, sz // deg, sz - 1, sz - 1]\n",
    "print(points_real)\n",
    "#points_real = [sz, 0, sz, sz]\n",
    "psf_bezier = bezier_psf2(points_real)\n",
    "plt.imshow(psf_bezier, 'gray')\n",
    "plt.plot(0, 0, 'ro')\n",
    "plt.plot(points_real[0], points_real[1], 'ro')\n",
    "plt.plot(points_real[2], points_real[3], 'ro')\n",
    "#plt.savefig(\"pic/curved-psf.png\")\n",
    "plt.show()"
   ]
  },
  {
   "cell_type": "code",
   "execution_count": null,
   "metadata": {},
   "outputs": [],
   "source": [
    "lifting_bezier_blurred = convolve2d(liftingbody, psf_bezier, 'same')\n",
    "plt.imshow(lifting_bezier_blurred, 'gray')\n",
    "plt.show()"
   ]
  },
  {
   "cell_type": "raw",
   "metadata": {},
   "source": [
    "deconv = richardson_lucy(lifting_bezier_blurred, psf_bezier, iterations=iterations)#, dampar=s_n, useFFT=False\n",
    "plt.imshow(deconv, 'gray')\n",
    "plt.show()"
   ]
  },
  {
   "cell_type": "code",
   "execution_count": null,
   "metadata": {},
   "outputs": [],
   "source": [
    "s_n, S_find = find_noise(lifting_bezier_blurred)\n",
    "s_n"
   ]
  },
  {
   "cell_type": "code",
   "execution_count": null,
   "metadata": {},
   "outputs": [],
   "source": [
    "deconv = richardson_lucy_matlab(\n",
    "    lifting_bezier_blurred,\n",
    "    psf_bezier,\n",
    "    iterations=iterations,\n",
    "    clip=True,\n",
    "    dampar=0.004,\n",
    "    useFFT=True)\n",
    "plt.imshow(deconv['image'], 'gray')\n",
    "plt.show()"
   ]
  },
  {
   "cell_type": "code",
   "execution_count": null,
   "metadata": {},
   "outputs": [],
   "source": [
    "N, M = lifting_bezier_blurred.shape\n",
    "# ( ifft2 (100* log (1+ abs ( fft2 ( I ) ) ) ) ) ;\n",
    "K = np.fft.ifftn(100 * np.log(1 + np.abs(np.fft.fftn(lifting_bezier_blurred))))\n",
    "K_shift = np.fft.fftshift(K)"
   ]
  },
  {
   "cell_type": "code",
   "execution_count": null,
   "metadata": {},
   "outputs": [],
   "source": [
    "def funcToMinimizeCurved(xy, I_blurred, crop=100, *args, **kwargs):\n",
    "    psf = bezier_psf2(xy, n=100)\n",
    "    restored = richardson_lucy_matlab(I_blurred, psf, *args, **kwargs)\n",
    "    I_restored = restored['image']\n",
    "    df = convolve2d(I_restored, psf, 'same') - I_blurred\n",
    "    return np.mean(np.square(df[crop:-crop, crop:-crop]))\n",
    "\n",
    "\n",
    "# partial(funcToMinimizeCurved, I_blurred=lifting_blurred, iterations=iterations, eps=1e-5, \n",
    "#         dampar=s_n, useFFT=True)([0, 10, 10, 10])"
   ]
  },
  {
   "cell_type": "code",
   "execution_count": null,
   "metadata": {},
   "outputs": [],
   "source": [
    "def funcToMinimizeCurved2(xy, I_blurred, xy2, crop=100, *args, **kwargs):\n",
    "    psf = bezier_psf2(np.concatenate((np.array(xy), np.array(xy2))), n=100)\n",
    "    restored = richardson_lucy_matlab(I_blurred, psf, *args, **kwargs)\n",
    "    I_restored = restored['image']\n",
    "    df = convolve2d(I_restored, psf, 'same') - I_blurred\n",
    "    return np.mean(np.square(df[crop:-crop, crop:-crop]))"
   ]
  },
  {
   "cell_type": "code",
   "execution_count": null,
   "metadata": {},
   "outputs": [],
   "source": [
    "c, r = np.unravel_index(np.argmin(K_shift, axis=None), K_shift.shape)\n",
    "#nn = np.argmin(np.real(K_shift))\n",
    "n, m, = K_shift.shape\n",
    "x0_2 = np.array([r - n // 2, c - m // 2])\n",
    "x0_1 = x0_2 / 3 + np.array([2, -2])\n",
    "x0 = np.concatenate((x0_1, x0_2))\n",
    "print(x0_1, x0_2)"
   ]
  },
  {
   "cell_type": "code",
   "execution_count": null,
   "metadata": {},
   "outputs": [],
   "source": [
    "plt.figure(figsize=(10, 10))\n",
    "plt.imshow(np.clip(np.real(K_shift), -1, 1),\n",
    "           'gray')  #, vmin=noisy.min(), vmax=noisy.max())\n",
    "plt.plot(n // 2 + x0_2[1], m // 2 + x0_2[0], 'ro')\n",
    "plt.title('Кепстр изображения с выделенным минмиумом')\n",
    "#plt.savefig('pic/kepstr.png')\n",
    "plt.show()"
   ]
  },
  {
   "cell_type": "code",
   "execution_count": null,
   "metadata": {},
   "outputs": [],
   "source": [
    "res_my_grad = minimize_grad(partial(funcToMinimizeCurved2, I_blurred=lifting_bezier_blurred, \n",
    "                                    xy2=x0_2, iterations=iterations, eps=1e-5, dampar=10*s_n, useFFT=True),\n",
    "                            x0=x0_1, disp=True, alpha=100)\n",
    "print(res_my_grad)\n",
    "#res_my_"
   ]
  },
  {
   "cell_type": "code",
   "execution_count": null,
   "metadata": {},
   "outputs": [],
   "source": [
    "res_my_grad2 = minimize_grad(partial(funcToMinimizeCurved2, I_blurred=lifting_bezier_blurred, xy2=x0_2, \n",
    "                                     iterations=iterations, eps=1e-5, dampar=10*s_n, useFFT=True),\n",
    "                             x0=x0_1, disp=True, alpha=1000)\n",
    "print(res_my_grad)\n",
    "#res_my_"
   ]
  },
  {
   "cell_type": "code",
   "execution_count": null,
   "metadata": {},
   "outputs": [],
   "source": [
    "res_my_grad2 = OptimizeResult(x=np.concatenate((res_my_grad['x'], x0_2)))"
   ]
  },
  {
   "cell_type": "code",
   "execution_count": null,
   "metadata": {},
   "outputs": [],
   "source": [
    "deconv_orig = richardson_lucy_matlab(lifting_bezier_blurred, psf_bezier, iterations=iterations, \n",
    "                                     dampar=s_n, useFFT=False)\n",
    "psnr_orig = compare_psnr_crop(liftingbody, deconv_orig['image'])\n",
    "\n",
    "psf_init = bezier_psf2(x0)\n",
    "deconv_init = richardson_lucy_matlab(lifting_bezier_blurred, psf_init, iterations=iterations, \n",
    "                                     dampar=s_n, useFFT=False)\n",
    "psnr_init = compare_psnr_crop(liftingbody, deconv_init['image'])\n",
    "\n",
    "points_found = res_my_grad2['x']\n",
    "psf_found = bezier_psf2(points_found)\n",
    "deconv_found = richardson_lucy_matlab(lifting_bezier_blurred, psf_found, iterations=iterations, \n",
    "                                      dampar=s_n, useFFT=False)\n",
    "psnr_found = compare_psnr_crop(liftingbody, deconv_found['image'])\n",
    "\n",
    "show_results(deconv_orig['image'], deconv_init['image'], deconv_found['image'],\n",
    "             titles=['Restored with true psf\\nPSNR={0}\\ncoord={1}'.format(psnr_orig, points_real), \n",
    "                     'With initial approxiamtion\\nPSNR={0}\\ncoord={1}'.format(psnr_init, x0),\n",
    "                     'Minimized error\\nPSNR={0}\\ncoord={1}'.format(psnr_found, res_my_grad2['x'])])"
   ]
  }
 ],
 "metadata": {
  "kernelspec": {
   "display_name": "Python 3",
   "language": "python",
   "name": "python3"
  },
  "language_info": {
   "codemirror_mode": {
    "name": "ipython",
    "version": 3
   },
   "file_extension": ".py",
   "mimetype": "text/x-python",
   "name": "python",
   "nbconvert_exporter": "python",
   "pygments_lexer": "ipython3",
   "version": "3.6.5"
  },
  "toc": {
   "nav_menu": {},
   "number_sections": true,
   "sideBar": true,
   "skip_h1_title": false,
   "toc_cell": false,
   "toc_position": {},
   "toc_section_display": "block",
   "toc_window_display": false
  }
 },
 "nbformat": 4,
 "nbformat_minor": 2
}

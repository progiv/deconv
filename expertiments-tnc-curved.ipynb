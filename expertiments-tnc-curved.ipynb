{
 "cells": [
  {
   "cell_type": "markdown",
   "metadata": {},
   "source": [
    "# Оценка линейного искажающего оператора в задаче восстановления изображений\n",
    "Время работы 6:22"
   ]
  },
  {
   "cell_type": "code",
   "execution_count": null,
   "metadata": {},
   "outputs": [],
   "source": [
    "import numpy as np\n",
    "# import matplotlib.pyplot as plt\n",
    "\n",
    "from scipy.signal import convolve2d\n",
    "from skimage import color, data, restoration, img_as_float, io\n",
    "from skimage.measure import compare_psnr\n",
    "from functools import partial\n",
    "from scipy.optimize import minimize\n",
    "\n",
    "from util import *\n",
    "from richardson_lucy import *"
   ]
  },
  {
   "cell_type": "code",
   "execution_count": null,
   "metadata": {},
   "outputs": [],
   "source": [
    "prefix = \"curved-tnc\""
   ]
  },
  {
   "cell_type": "code",
   "execution_count": null,
   "metadata": {},
   "outputs": [],
   "source": [
    "astro = color.rgb2gray(data.astronaut())\n",
    "liftingbody = img_as_float(io.imread('liftingbody.png'))"
   ]
  },
  {
   "cell_type": "code",
   "execution_count": null,
   "metadata": {},
   "outputs": [],
   "source": [
    "iterations=20"
   ]
  },
  {
   "cell_type": "markdown",
   "metadata": {},
   "source": [
    "## Оценка криволинейного оператора смаза, представленного кривой Безье"
   ]
  },
  {
   "cell_type": "code",
   "execution_count": null,
   "metadata": {},
   "outputs": [],
   "source": [
    "sz = 20\n",
    "deg = 5\n",
    "points_real = [(deg-1)*sz//deg-1, sz//deg, sz-1, sz-1]\n",
    "print(points_real)\n",
    "#points_real = [sz, 0, sz, sz]\n",
    "psf_bezier = bezier_psf2(points_real)\n",
    "plt.imshow(psf_bezier, 'gray')\n",
    "plt.show()"
   ]
  },
  {
   "cell_type": "code",
   "execution_count": null,
   "metadata": {},
   "outputs": [],
   "source": [
    "lifting_bezier_blurred = convolve2d(liftingbody, psf_bezier, 'same')\n",
    "\n",
    "lifting_restored = restoration.richardson_lucy(lifting_bezier_blurred, psf_bezier, iterations=iterations)\n",
    "psnr_py = compare_psnr_crop(liftingbody, lifting_restored)\n",
    "\n",
    "deconv_bezier = richardson_lucy_matlab(lifting_bezier_blurred, psf_bezier, iterations=iterations, clip=True, useFFT=True, dampar=0.004)\n",
    "psnr_my = compare_psnr_crop(liftingbody, deconv_bezier['image'])"
   ]
  },
  {
   "cell_type": "code",
   "execution_count": null,
   "metadata": {},
   "outputs": [],
   "source": [
    "show_results(lifting_bezier_blurred, lifting_restored, deconv_bezier['image'],\n",
    "            titles=['Blurred image', 'Restored with python LR\\nPSNR={0}'.format(psnr_py), 'Restored with my LR\\nPSNR={0}'.format(psnr_my)])"
   ]
  },
  {
   "cell_type": "markdown",
   "metadata": {},
   "source": [
    "## Кепстр"
   ]
  },
  {
   "cell_type": "code",
   "execution_count": null,
   "metadata": {},
   "outputs": [],
   "source": [
    "s_n, S_find = find_noise(lifting_bezier_blurred)"
   ]
  },
  {
   "cell_type": "code",
   "execution_count": null,
   "metadata": {},
   "outputs": [],
   "source": [
    "b_clip = 3\n",
    "N,M = lifting_bezier_blurred.shape\n",
    "# ( ifft2 (100* log (1+ abs ( fft2 ( I ) ) ) ) ) ;\n",
    "K = np.fft.ifftn(100*np.log(1+np.abs(np.fft.fftn(lifting_bezier_blurred))))\n",
    "K_shift = np.fft.fftshift(K)"
   ]
  },
  {
   "cell_type": "code",
   "execution_count": null,
   "metadata": {},
   "outputs": [],
   "source": [
    "c, r = np.unravel_index(np.argmin(K_shift, axis=None), K_shift.shape)\n",
    "n, m, = K_shift.shape\n",
    "x2 = np.array([r - n//2, c - m//2])\n",
    "x1 = x2/2 + np.array([2,-2])\n",
    "print(x2)"
   ]
  },
  {
   "cell_type": "code",
   "execution_count": null,
   "metadata": {},
   "outputs": [],
   "source": [
    "plt.figure(figsize=(10,10))\n",
    "plt.imshow(np.clip(np.real(K_shift),-1,1))#, vmin=noisy.min(), vmax=noisy.max())\n",
    "plt.plot(n//2 + x2[0], m//2 + x2[1], 'ro')\n",
    "plt.title('Кепстр изображения с выделенным минмиумом')\n",
    "#plt.savefig('pic/{0}-kepstr.png'.format(prefix))\n",
    "plt.show()"
   ]
  },
  {
   "cell_type": "code",
   "execution_count": null,
   "metadata": {},
   "outputs": [],
   "source": [
    "x0 = np.concatenate((x1, x2))\n",
    "print(x0)"
   ]
  },
  {
   "cell_type": "markdown",
   "metadata": {},
   "source": [
    "## Минимизация"
   ]
  },
  {
   "cell_type": "raw",
   "metadata": {},
   "source": [
    "res_tnc = minimize(partial(funcToMinimizeCurved, I_blurred=lifting_bezier_blurred, iterations=iterations, eps=1e-5, dampar=s_n, useFFT=True),\n",
    "                   options={'eps':.5}, x0=x0, method='TNC')\n",
    "print(res_tnc)"
   ]
  },
  {
   "cell_type": "raw",
   "metadata": {},
   "source": [
    "res_tnc = minimize(partial(funcToMinimizeCurved2, xy2=x2, I_blurred=lifting_bezier_blurred, \n",
    "                           iterations=iterations, eps=1e-5, dampar=s_n, useFFT=True),\n",
    "                   options={'eps':.5}, x0=x1, method='TNC')\n",
    "print(res_tnc)"
   ]
  },
  {
   "cell_type": "code",
   "execution_count": null,
   "metadata": {},
   "outputs": [],
   "source": [
    "x1, points_real"
   ]
  },
  {
   "cell_type": "code",
   "execution_count": null,
   "metadata": {},
   "outputs": [],
   "source": [
    "res_cg = minimize(partial(funcToMinimizeCurved2, xy2=x2, I_blurred=lifting_bezier_blurred, iterations=iterations, eps=1e-5, dampar=s_n, useFFT=True),\n",
    "                   options={'disp':True}, x0=x1, method='CG')\n",
    "print(res_cg)"
   ]
  },
  {
   "cell_type": "code",
   "execution_count": null,
   "metadata": {},
   "outputs": [],
   "source": [
    "deconv_orig = richardson_lucy_matlab(lifting_bezier_blurred, psf_bezier, iterations=iterations, dampar=s_n, useFFT=False)\n",
    "psnr_orig = compare_psnr(liftingbody, deconv_orig['image'])\n",
    "\n",
    "psf_init = bezier_psf2(x0)\n",
    "deconv_init = richardson_lucy_matlab(lifting_bezier_blurred, psf_init, iterations=iterations, dampar=s_n, useFFT=False)\n",
    "psnr_init = compare_psnr(liftingbody, deconv_init['image'])\n",
    "\n",
    "points_found = np.concatenate((res_cg['x'], x2))\n",
    "psf_found = bezier_psf2(points_found)\n",
    "deconv_found = richardson_lucy_matlab(lifting_bezier_blurred, psf_found, iterations=iterations, dampar=s_n, useFFT=False)\n",
    "psnr_found = compare_psnr(liftingbody, deconv_found['image'])\n",
    "\n",
    "show_results(deconv_orig['image'], deconv_init['image'], deconv_found['image'],\n",
    "             titles=['Restored with true psf\\nPSNR={0}\\ncoord={1}'.format(psnr_orig, points_real), \n",
    "                     'With initial approxiamtion\\nPSNR={0}\\ncoord={1}'.format(psnr_init, x0),\n",
    "                     'Minimized error\\nPSNR={0}\\ncoord={1}'.format(psnr_found, points_found)])"
   ]
  },
  {
   "cell_type": "code",
   "execution_count": null,
   "metadata": {},
   "outputs": [],
   "source": [
    "res_nelder = minimize(partial(funcToMinimizeCurved2, I_blurred=lifting_bezier_blurred, xy2=x2, iterations=iterations, eps=1e-5, dampar=s_n, useFFT=True),\n",
    "                      x0=x1, method='Nelder-Mead', options={'xatol': 1e-3, 'disp': True})\n",
    "print(res_nelder)"
   ]
  },
  {
   "cell_type": "code",
   "execution_count": null,
   "metadata": {},
   "outputs": [],
   "source": [
    "# deconv_orig = richardson_lucy_matlab(lifting_bezier_blurred, psf_bezier, iterations=iterations, dampar=s_n, useFFT=False)\n",
    "# psnr_orig = compare_psnr_crop(liftingbody, deconv_orig['image'])\n",
    "\n",
    "psf_init = bezier_psf2(x0)\n",
    "deconv_init = richardson_lucy_matlab(lifting_bezier_blurred, psf_init, iterations=iterations, dampar=s_n, useFFT=False)\n",
    "psnr_init = compare_psnr_crop(liftingbody, deconv_init['image'])\n",
    "\n",
    "points_found = np.concatenate((res_nelder['x'], x2))\n",
    "psf_found = bezier_psf2(points_found)\n",
    "deconv_found = richardson_lucy_matlab(lifting_bezier_blurred, psf_found, iterations=iterations, dampar=s_n, useFFT=False)\n",
    "psnr_found = compare_psnr_crop(liftingbody, deconv_found['image'])\n",
    "\n",
    "show_results(deconv_orig['image'], deconv_init['image'], deconv_found['image'],\n",
    "             titles=['Restored with true psf\\nPSNR={0}\\ncoord={1}'.format(psnr_orig.round(2), points_real), \n",
    "                     'With initial approxiamtion\\nPSNR={0}\\ncoord={1}'.format(psnr_init.round(2), x0),\n",
    "                     'Minimized error\\nPSNR={0}\\ncoord={1}'.format(psnr_found.round(2), res_nelder['x'])])"
   ]
  }
 ],
 "metadata": {
  "kernelspec": {
   "display_name": "Python 3",
   "language": "python",
   "name": "python3"
  },
  "language_info": {
   "codemirror_mode": {
    "name": "ipython",
    "version": 3
   },
   "file_extension": ".py",
   "mimetype": "text/x-python",
   "name": "python",
   "nbconvert_exporter": "python",
   "pygments_lexer": "ipython3",
   "version": "3.6.5"
  },
  "toc": {
   "nav_menu": {},
   "number_sections": true,
   "sideBar": true,
   "skip_h1_title": false,
   "toc_cell": false,
   "toc_position": {
    "height": "802px",
    "left": "0px",
    "right": "1641px",
    "top": "111px",
    "width": "212px"
   },
   "toc_section_display": "block",
   "toc_window_display": true
  }
 },
 "nbformat": 4,
 "nbformat_minor": 2
}

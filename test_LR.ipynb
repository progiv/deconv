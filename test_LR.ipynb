{
 "cells": [
  {
   "cell_type": "markdown",
   "metadata": {},
   "source": [
    "# Notebook to test realisation of richardson_lucy_matlab\n",
    "## A LR method in matlab style\n",
    "Install library before use like this:\n",
    "\n",
    "```\n",
    "git clone git@github.com:progiv/scikit-image.git\n",
    "cd scikit-image\n",
    "pip3 install --user -e .\n",
    "```"
   ]
  },
  {
   "cell_type": "code",
   "execution_count": null,
   "metadata": {
    "ExecuteTime": {
     "end_time": "2018-03-10T19:46:52.015587Z",
     "start_time": "2018-03-10T19:46:51.368293Z"
    }
   },
   "outputs": [],
   "source": [
    "import numpy as np\n",
    "import matplotlib.pyplot as plt\n",
    "from scipy.signal import convolve2d as conv2\n",
    "\n",
    "from skimage import color, data, restoration"
   ]
  },
  {
   "cell_type": "code",
   "execution_count": null,
   "metadata": {
    "ExecuteTime": {
     "end_time": "2018-03-10T19:46:52.123348Z",
     "start_time": "2018-03-10T19:46:52.017850Z"
    }
   },
   "outputs": [],
   "source": [
    "# Prepare data\n",
    "astro = color.rgb2gray(data.astronaut())\n",
    "\n",
    "psf = np.ones((5, 5)) / 25\n",
    "astro = conv2(astro, psf, 'same')\n",
    "# Add Noise to Image\n",
    "astro_noisy = astro.copy()\n",
    "astro_noisy += (np.random.poisson(lam=25, size=astro.shape) - 10) / 255."
   ]
  },
  {
   "cell_type": "code",
   "execution_count": null,
   "metadata": {
    "ExecuteTime": {
     "end_time": "2018-03-10T19:46:52.162630Z",
     "start_time": "2018-03-10T19:46:52.125452Z"
    }
   },
   "outputs": [],
   "source": [
    "def show_results(original, noisy, result):\n",
    "    # Show results\n",
    "    fig, ax = plt.subplots(nrows=1, ncols=3, figsize=(8, 5))\n",
    "    plt.gray()\n",
    "\n",
    "    for a in (ax[0], ax[1], ax[2]):\n",
    "           a.axis('off')\n",
    "\n",
    "    ax[0].imshow(original)\n",
    "    ax[0].set_title('Original Data')\n",
    "\n",
    "    ax[1].imshow(noisy)\n",
    "    ax[1].set_title('Noisy data')\n",
    "\n",
    "    ax[2].imshow(result, vmin=noisy.min(), vmax=noisy.max())\n",
    "    ax[2].set_title('Restoration using\\nRichardson-Lucy')\n",
    "\n",
    "\n",
    "    fig.subplots_adjust(wspace=0.02, hspace=0.2,\n",
    "                        top=0.9, bottom=0.05, left=0, right=1)\n",
    "    plt.show()"
   ]
  },
  {
   "cell_type": "code",
   "execution_count": null,
   "metadata": {
    "ExecuteTime": {
     "end_time": "2018-03-10T19:46:52.334999Z",
     "start_time": "2018-03-10T19:46:52.164896Z"
    }
   },
   "outputs": [],
   "source": [
    "# Restore Image using Richardson-Lucy algorithm my:\n",
    "deconvolved_RL = restoration.richardson_lucy_matlab(astro_noisy, psf, iterations=30)\n",
    "show_results(astro, astro_noisy, deconvolved_RL)"
   ]
  },
  {
   "cell_type": "code",
   "execution_count": null,
   "metadata": {
    "ExecuteTime": {
     "end_time": "2018-03-10T19:39:42.877238Z",
     "start_time": "2018-03-10T19:39:41.871Z"
    }
   },
   "outputs": [],
   "source": [
    "# Restore Image using Richardson-Lucy algorithm, how it must be:\n",
    "deconvolved_RL = restoration.richardson_lucy(astro_noisy, psf, iterations=30)\n",
    "show_results(astro, astro_noisy, deconvolved_RL)"
   ]
  }
 ],
 "metadata": {
  "kernelspec": {
   "display_name": "Python 3",
   "language": "python",
   "name": "python3"
  },
  "language_info": {
   "codemirror_mode": {
    "name": "ipython",
    "version": 3
   },
   "file_extension": ".py",
   "mimetype": "text/x-python",
   "name": "python",
   "nbconvert_exporter": "python",
   "pygments_lexer": "ipython3",
   "version": "3.6.3"
  }
 },
 "nbformat": 4,
 "nbformat_minor": 2
}

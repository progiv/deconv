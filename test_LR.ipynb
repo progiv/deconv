{
 "cells": [
  {
   "cell_type": "markdown",
   "metadata": {},
   "source": [
    "# Notebook to test realisation of richardson_lucy_matlab\n",
    "## A LR method in matlab style\n",
    "Install library before use like this:\n",
    "\n",
    "```\n",
    "git clone git@github.com:progiv/scikit-image.git\n",
    "cd scikit-image\n",
    "pip3 install --user -e .\n",
    "```\n",
    "\n",
    "Время работы: 6с"
   ]
  },
  {
   "cell_type": "code",
   "execution_count": null,
   "metadata": {},
   "outputs": [],
   "source": [
    "import numpy as np\n",
    "import matplotlib.pyplot as plt\n",
    "from scipy.signal import convolve2d as conv2\n",
    "\n",
    "from skimage import color, data, restoration, io\n",
    "\n",
    "from richardson_lucy import richardson_lucy_matlab\n",
    "from util import *"
   ]
  },
  {
   "cell_type": "code",
   "execution_count": null,
   "metadata": {},
   "outputs": [],
   "source": [
    "np.round(motion_blur_psf_my(5, pi/6),3)[::-1,:]"
   ]
  },
  {
   "cell_type": "code",
   "execution_count": null,
   "metadata": {},
   "outputs": [],
   "source": [
    "#zak0 = color.rgb2gray(io.imread(\"pic/zakromsky-shift20.png\"))\n",
    "#zak1 = color.rgb2gray(io.imread(\"pic/zakromsky-shift20-tikhonov.png\"))"
   ]
  },
  {
   "cell_type": "code",
   "execution_count": null,
   "metadata": {},
   "outputs": [],
   "source": [
    "#compare_psnr_crop(zak0, zak1)"
   ]
  },
  {
   "cell_type": "code",
   "execution_count": null,
   "metadata": {},
   "outputs": [],
   "source": [
    "prefix = \"pic/richardson-lucy\""
   ]
  },
  {
   "cell_type": "code",
   "execution_count": null,
   "metadata": {},
   "outputs": [],
   "source": [
    "# Prepare data\n",
    "astro = color.rgb2gray(data.astronaut())\n",
    "shift = 20\n",
    "psf = motion_blur_psf_my(shift, pi/4)\n",
    "astro_distorted = conv2(astro, psf, 'same', 'symm')\n",
    "astro_noisy = astro_distorted + 0.003 * np.random.standard_normal(astro_distorted.shape)\n",
    "#astro_noisy = edgetaper(astro_noisy, gkern2(30,10))"
   ]
  },
  {
   "cell_type": "code",
   "execution_count": null,
   "metadata": {},
   "outputs": [],
   "source": [
    "s_n, S_find = find_noise(astro_noisy)\n",
    "s_n"
   ]
  },
  {
   "cell_type": "code",
   "execution_count": null,
   "metadata": {},
   "outputs": [],
   "source": [
    "# Restore Image using Richardson-Lucy algorithm my:\n",
    "deconvolved_RL_my = richardson_lucy_matlab(edgetaper(astro_noisy, gkern2(20,7)), psf, iterations=30, eps=1e-16, dampar = s_n)\n",
    "show_results(astro, astro_noisy, deconvolved_RL_my['image'])\n",
    "print(compare_psnr_crop(astro, deconvolved_RL_my['image']))"
   ]
  },
  {
   "cell_type": "code",
   "execution_count": null,
   "metadata": {},
   "outputs": [],
   "source": [
    "npArrayToPng(astro_noisy, \"{0}-astro-distorted.png\".format(prefix))\n",
    "npArrayToPng(deconvolved_RL_my['image'], \"{0}-astro-distorted-restored.png\".format(prefix))"
   ]
  },
  {
   "cell_type": "code",
   "execution_count": null,
   "metadata": {},
   "outputs": [],
   "source": [
    "# Restore Image using Richardson-Lucy algorithm, how it must be:\n",
    "deconvolved_RL = restoration.richardson_lucy(edgetaper(astro_noisy, gkern2(20,7)), psf, iterations=30)\n",
    "show_results(astro, astro_noisy, np.clip(deconvolved_RL, 0, 1))"
   ]
  },
  {
   "cell_type": "code",
   "execution_count": null,
   "metadata": {},
   "outputs": [],
   "source": [
    "compare_psnr_crop(astro, deconvolved_RL)"
   ]
  }
 ],
 "metadata": {
  "kernelspec": {
   "display_name": "Python 3",
   "language": "python",
   "name": "python3"
  },
  "language_info": {
   "codemirror_mode": {
    "name": "ipython",
    "version": 3
   },
   "file_extension": ".py",
   "mimetype": "text/x-python",
   "name": "python",
   "nbconvert_exporter": "python",
   "pygments_lexer": "ipython3",
   "version": "3.6.5"
  },
  "toc": {
   "nav_menu": {},
   "number_sections": true,
   "sideBar": true,
   "skip_h1_title": false,
   "toc_cell": false,
   "toc_position": {},
   "toc_section_display": "block",
   "toc_window_display": false
  }
 },
 "nbformat": 4,
 "nbformat_minor": 2
}

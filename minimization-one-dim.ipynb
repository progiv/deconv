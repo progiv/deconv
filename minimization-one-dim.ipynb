{
 "cells": [
  {
   "cell_type": "markdown",
   "metadata": {},
   "source": [
    "# Одномерная минимизация криловлинейной psf.\n",
    "* поиск дальней точки через кепстр\n",
    "* начальное приближение - полный перебор на срединном перпендикуляре\n",
    "* уточнение одним из (стандартных) алгоритмов\n",
    "<img src=\"pic/minimization_ill.png\">\n",
    "\n",
    "Время работы: 2:24"
   ]
  },
  {
   "cell_type": "code",
   "execution_count": null,
   "metadata": {},
   "outputs": [],
   "source": [
    "import numpy as np\n",
    "from skimage import color, data, restoration, img_as_float, io\n",
    "from scipy.signal import convolve2d as conv2\n",
    "\n",
    "from skimage.restoration import richardson_lucy\n",
    "from skimage.measure import compare_psnr\n",
    "from functools import partial\n",
    "from scipy.optimize import minimize\n",
    "from scipy.optimize import OptimizeResult\n",
    "from tqdm import tqdm_notebook\n",
    "\n",
    "from util import *\n",
    "from richardson_lucy import *"
   ]
  },
  {
   "cell_type": "code",
   "execution_count": null,
   "metadata": {},
   "outputs": [],
   "source": [
    "astro = color.rgb2gray(data.astronaut())\n",
    "liftingbody = img_as_float(io.imread('liftingbody.png'))\n",
    "iterations = 30"
   ]
  },
  {
   "cell_type": "code",
   "execution_count": null,
   "metadata": {},
   "outputs": [],
   "source": [
    "sz = 21\n",
    "deg = 5\n",
    "points_real = [(deg-1)*sz//deg-1, sz//deg, sz-1, sz-1]\n",
    "#points_real = [sz, 0, sz, sz]\n",
    "psf_bezier = bezier_psf2(points_real)\n",
    "plt.imshow(psf_bezier, 'gray')\n",
    "plt.plot(0, 0, 'ro')\n",
    "plt.plot(points_real[0], points_real[1], 'ro')\n",
    "plt.plot(points_real[2], points_real[3], 'ro')\n",
    "plt.savefig(\"pic/curved-psf-for-1d.png\")\n",
    "plt.show()"
   ]
  },
  {
   "cell_type": "code",
   "execution_count": null,
   "metadata": {},
   "outputs": [],
   "source": [
    "lifting_bezier_blurred = convolve2d(liftingbody, psf_bezier, 'same')\n",
    "plt.imshow(lifting_bezier_blurred, 'gray')\n",
    "plt.show()"
   ]
  },
  {
   "cell_type": "code",
   "execution_count": null,
   "metadata": {},
   "outputs": [],
   "source": [
    "s_n, S_find = find_noise(lifting_bezier_blurred)\n",
    "s_n"
   ]
  },
  {
   "cell_type": "code",
   "execution_count": null,
   "metadata": {},
   "outputs": [],
   "source": [
    "N,M = lifting_bezier_blurred.shape\n",
    "# ( ifft2 (100* log (1+ abs ( fft2 ( I ) ) ) ) ) ;\n",
    "K = np.fft.ifftn(100*np.log(1+np.abs(np.fft.fftn(lifting_bezier_blurred))))\n",
    "K_shift = np.fft.fftshift(K)\n",
    "\n",
    "nn = np.argmin(np.real(K_shift))\n",
    "n, m, = K_shift.shape\n",
    "c,r = np.unravel_index(np.argmin(K_shift, axis=None), K_shift.shape)\n",
    "x0_2 = np.array([r - n//2, c - m//2])\n",
    "#x2 = np.array([nn // n - n//2, nn % n - m//2])\n",
    "\n",
    "if x0_2[0]<0:\n",
    "    x0_2 = -x0_2\n",
    "x0_1 = x0_2/2# + np.array([4,-4])\n",
    "x0 = np.concatenate((x0_1, x0_2))\n",
    "print(x0)"
   ]
  },
  {
   "cell_type": "code",
   "execution_count": null,
   "metadata": {},
   "outputs": [],
   "source": [
    "plt.figure(figsize=(10,10))\n",
    "plt.imshow(np.clip(np.real(K_shift),-1,1), 'gray')#, vmin=noisy.min(), vmax=noisy.max())\n",
    "plt.plot(n//2 + x0_2[1], m//2 + x0_2[0], 'ro')\n",
    "plt.title('Кепстр изображения с выделенным минмиумом')\n",
    "plt.show()"
   ]
  },
  {
   "cell_type": "code",
   "execution_count": null,
   "metadata": {},
   "outputs": [],
   "source": [
    "def second_point(x2, dist=0):\n",
    "    n = np.array([x2[1], -x2[0]])\n",
    "    n_len = vec_len(n)\n",
    "    if n_len<1e-16:\n",
    "        n = 1e-16\n",
    "    else:\n",
    "        n = n/vec_len(n)\n",
    "    mid = x2 / 2\n",
    "    return mid + n*dist"
   ]
  },
  {
   "cell_type": "code",
   "execution_count": null,
   "metadata": {},
   "outputs": [],
   "source": [
    "x1_vec = np.array([x0_2[1], -x0_2[0]])\n",
    "x1_vec = x1_vec / vec_len(x1_vec)\n",
    "print(x1_vec)"
   ]
  },
  {
   "cell_type": "code",
   "execution_count": null,
   "metadata": {},
   "outputs": [],
   "source": [
    "def funcToMinimizeCurved2(xy, I_blurred, xy2, crop=100, *args, **kwargs):\n",
    "    psf = bezier_psf2(np.concatenate((np.array(xy), np.array(xy2))), n=100)\n",
    "    restored = richardson_lucy_matlab(I_blurred, psf, *args, **kwargs)\n",
    "    I_restored = restored['image']\n",
    "    df = convolve2d(I_restored, psf, 'same') - I_blurred\n",
    "    return np.mean(np.square(df[crop:-crop, crop:-crop]))"
   ]
  },
  {
   "cell_type": "code",
   "execution_count": null,
   "metadata": {},
   "outputs": [],
   "source": [
    "def funcToMinimizeCurvedNormal(dist, I_blurred, xy2, crop=100, *args, **kwargs):\n",
    "    xy = second_point(xy2, dist)\n",
    "    print(dist, xy)\n",
    "    \n",
    "    psf = bezier_psf2(np.concatenate((np.array(xy), np.array(xy2))), n=100)\n",
    "    restored = richardson_lucy_matlab(I_blurred, psf, *args, **kwargs)\n",
    "    I_restored = restored['image']\n",
    "    df = convolve2d(I_restored, psf, 'same') - I_blurred\n",
    "    return np.mean(np.square(df[crop:-crop, crop:-crop]))"
   ]
  },
  {
   "cell_type": "code",
   "execution_count": null,
   "metadata": {},
   "outputs": [],
   "source": [
    "cost_fun = partial(funcToMinimizeCurvedNormal, I_blurred=lifting_bezier_blurred, xy2=x0_2, \n",
    "                   iterations=iterations, eps=1e-5, dampar=s_n, useFFT=True)"
   ]
  },
  {
   "cell_type": "code",
   "execution_count": null,
   "metadata": {},
   "outputs": [],
   "source": [
    "L = vec_len(x0_2)"
   ]
  },
  {
   "cell_type": "code",
   "execution_count": null,
   "metadata": {},
   "outputs": [],
   "source": [
    "distances = np.linspace(-L/2, L/2, 30)\n",
    "best_val = 1e9 #+inf\n",
    "best_dist = 0\n",
    "for dist in distances:\n",
    "    val = cost_fun(dist)\n",
    "    if val < best_val:\n",
    "        best_dist = dist\n",
    "        best_val = val"
   ]
  },
  {
   "cell_type": "code",
   "execution_count": null,
   "metadata": {},
   "outputs": [],
   "source": [
    "best_dist, best_val"
   ]
  },
  {
   "cell_type": "code",
   "execution_count": null,
   "metadata": {},
   "outputs": [],
   "source": [
    "point2 = second_point(x0_2, best_dist)\n",
    "points_found = np.concatenate((point2, x0_2))\n",
    "print(points_found)"
   ]
  },
  {
   "cell_type": "code",
   "execution_count": null,
   "metadata": {},
   "outputs": [],
   "source": [
    "deconv_orig = richardson_lucy_matlab(lifting_bezier_blurred, psf_bezier, iterations=iterations, \n",
    "                                     dampar=s_n, useFFT=False)\n",
    "psnr_orig = compare_psnr_crop(liftingbody, deconv_orig['image'])\n",
    "\n",
    "psf_init = bezier_psf2(x0)\n",
    "deconv_init = richardson_lucy_matlab(lifting_bezier_blurred, psf_init, iterations=iterations, \n",
    "                                     dampar=s_n, useFFT=False)\n",
    "psnr_init = compare_psnr_crop(liftingbody, deconv_init['image'])\n",
    "\n",
    "#points_found = res_my_grad2['x']\n",
    "psf_found = bezier_psf2(points_found)\n",
    "deconv_found = richardson_lucy_matlab(lifting_bezier_blurred, psf_found, iterations=iterations, \n",
    "                                      dampar=s_n, useFFT=False)\n",
    "psnr_found = compare_psnr_crop(liftingbody, deconv_found['image'])\n",
    "\n",
    "show_results(deconv_orig['image'], deconv_init['image'], deconv_found['image'],\n",
    "             titles=['Restored with true psf\\nPSNR={0}\\ncoord={1}'.format(psnr_orig.round(2), points_real), \n",
    "                     'With initial approxiamtion\\nPSNR={0}\\ncoord={1}'.format(psnr_init.round(2), x0.round(4)),\n",
    "                     'Minimized error\\nPSNR={0}\\ncoord={1}'.format(psnr_found.round(2), points_found.round(4))],\n",
    "             savefig='pic/one-dim.png')"
   ]
  },
  {
   "cell_type": "code",
   "execution_count": null,
   "metadata": {},
   "outputs": [],
   "source": [
    "def funcToMinimizeCurved(xy, I_blurred, crop=100, *args, **kwargs):\n",
    "    psf = bezier_psf2(xy, n=100)\n",
    "    restored = richardson_lucy_matlab(I_blurred, psf, *args, **kwargs)\n",
    "    I_restored = restored['image']\n",
    "    df = convolve2d(I_restored, psf, 'same') - I_blurred\n",
    "    return np.mean(np.square(df[crop:-crop, crop:-crop]))"
   ]
  },
  {
   "cell_type": "code",
   "execution_count": null,
   "metadata": {},
   "outputs": [],
   "source": [
    "res_nelder = minimize(partial(funcToMinimizeCurved, I_blurred=lifting_bezier_blurred, \n",
    "                              iterations=iterations, eps=1e-5, dampar=s_n, useFFT=True),\n",
    "                      x0=points_found, method='Nelder-Mead', options={'xatol': 1e-4, 'disp': True})\n",
    "print(res_nelder)"
   ]
  },
  {
   "cell_type": "code",
   "execution_count": null,
   "metadata": {},
   "outputs": [],
   "source": [
    "deconv_orig = richardson_lucy_matlab(lifting_bezier_blurred, psf_bezier, iterations=iterations, \n",
    "                                     dampar=s_n, useFFT=False)\n",
    "psnr_orig = compare_psnr_crop(liftingbody, deconv_orig['image'])\n",
    "\n",
    "psf_init = bezier_psf2(points_found)\n",
    "deconv_init = richardson_lucy_matlab(lifting_bezier_blurred, psf_init, iterations=iterations, \n",
    "                                     dampar=s_n, useFFT=False)\n",
    "psnr_init = compare_psnr_crop(liftingbody, deconv_init['image'])\n",
    "\n",
    "#points_found = res_my_grad2['x']\n",
    "points_found2 = res_nelder.x\n",
    "psf_found = bezier_psf2(points_found2)\n",
    "deconv_found = richardson_lucy_matlab(lifting_bezier_blurred, psf_found, iterations=iterations, \n",
    "                                      dampar=s_n, useFFT=False)\n",
    "psnr_found = compare_psnr_crop(liftingbody, deconv_found['image'])\n",
    "\n",
    "show_results(deconv_orig['image'], deconv_init['image'], deconv_found['image'],\n",
    "             titles=['Restored with true psf\\nPSNR={0}\\ncoord={1}'.format(psnr_orig.round(2), points_real), \n",
    "                     'With one-dimensional search\\nPSNR={0}\\ncoord={1}'.format(psnr_init.round(2), points_found.round(4)),\n",
    "                     'Minimized error\\nPSNR={0}\\ncoord={1}'.format(psnr_found.round(2), points_found2.round(4))],\n",
    "             savefig='pic/one-dim-thiner.png')"
   ]
  }
 ],
 "metadata": {
  "kernelspec": {
   "display_name": "Python 3",
   "language": "python",
   "name": "python3"
  },
  "language_info": {
   "codemirror_mode": {
    "name": "ipython",
    "version": 3
   },
   "file_extension": ".py",
   "mimetype": "text/x-python",
   "name": "python",
   "nbconvert_exporter": "python",
   "pygments_lexer": "ipython3",
   "version": "3.6.3"
  },
  "toc": {
   "nav_menu": {},
   "number_sections": true,
   "sideBar": true,
   "skip_h1_title": false,
   "toc_cell": false,
   "toc_position": {},
   "toc_section_display": "block",
   "toc_window_display": false
  }
 },
 "nbformat": 4,
 "nbformat_minor": 2
}

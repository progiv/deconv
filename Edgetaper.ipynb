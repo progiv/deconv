{
 "cells": [
  {
   "cell_type": "code",
   "execution_count": null,
   "metadata": {},
   "outputs": [],
   "source": [
    "import numpy as np\n",
    "import matplotlib.pyplot as plt\n",
    "from scipy.signal import convolve2d as conv2\n",
    "\n",
    "from skimage import color, data, restoration, io, img_as_float\n",
    "from skimage.restoration import uft\n",
    "from scipy.signal import fftconvolve, convolve, convolve2d\n",
    "from scipy.stats.stats import pearsonr\n",
    "from numpy.fft import fftn, ifftn\n",
    "from skimage.measure import compare_psnr\n",
    "from skimage.draw import bezier_curve"
   ]
  },
  {
   "cell_type": "code",
   "execution_count": null,
   "metadata": {},
   "outputs": [],
   "source": [
    "astro = color.rgb2gray(data.astronaut())"
   ]
  },
  {
   "cell_type": "code",
   "execution_count": null,
   "metadata": {},
   "outputs": [],
   "source": [
    "plt.figure(figsize=(10,10))\n",
    "plt.imshow(astro, 'gray')\n",
    "plt.show()"
   ]
  },
  {
   "cell_type": "code",
   "execution_count": null,
   "metadata": {},
   "outputs": [],
   "source": [
    "def edgetaper(I, psf):\n",
    "    \"\"\"\n",
    "    J = EDGETAPER(I,PSF) blurs the edges of image I using the point-spread\n",
    "    function, PSF. The output image J is the weighted sum of the original\n",
    "    image I and its blurred version. The weighting array, determined by the\n",
    "    autocorrelation function of PSF, makes J equal to I in its central\n",
    "    region, and equal to the blurred version of I near the edges.\n",
    "    \n",
    "    The EDGETAPER function reduces the ringing effect in image deblurring\n",
    "    methods that use the discrete Fourier transform, such as DECONWNR,\n",
    "    DECONVREG, and DECONVLUCY.\n",
    "    \n",
    "    Note that the size of the PSF cannot exceed half of the image size in any\n",
    "    dimension.\n",
    "    \"\"\"\n",
    "    # [I, PSF, sizeI, classI, sizePSF, numNSdim] = parse_inputs(varargin{:});\n",
    "    if np.all(psf >= 0):\n",
    "        psf /= psf.sum()\n",
    "    # PSF size cannot be larger than sizeI/2 because windowing is performed\n",
    "    # with PSF autocorrelation function\n",
    "    if np.any(np.array(I.shape) <= np.array(psf.shape) * 2):\n",
    "        raise ValueError(psf)\n",
    "\n",
    "    numDim = len(psf.shape)\n",
    "    beta = [0] * numDim\n",
    "    for n in range(numDim):\n",
    "        PSFproj = np.sum(psf, axis=n)\n",
    "        z = np.real(np.fft.ifftn(np.abs(np.fft.fftn(PSFproj, (I.shape[n] - 1,)))**2))\n",
    "        z = z/np.max(z)\n",
    "        beta[n] = np.append(z, z[0])\n",
    "    \n",
    "    if numDim == 1:\n",
    "        alpha = 1 - beta[0]\n",
    "    else: # n == 2:\n",
    "        alpha = np.matmul((1-beta[0]).reshape((I.shape[0], 1)), (1 - beta[1]).reshape(1, I.shape[1]))\n",
    "    # n > 2 - not implemented\n",
    "    \n",
    "    blurred = convolve2d(I, psf, 'same', 'symm')\n",
    "    J = alpha * I + (1-alpha)*blurred\n",
    "\n",
    "    return np.clip(J, np.min(I), np.max(I))"
   ]
  },
  {
   "cell_type": "code",
   "execution_count": null,
   "metadata": {},
   "outputs": [],
   "source": [
    "psf = np.ones((20,20))\n",
    "blurred = edgetaper(astro, psf)"
   ]
  },
  {
   "cell_type": "code",
   "execution_count": null,
   "metadata": {},
   "outputs": [],
   "source": [
    "plt.figure(figsize=(10,10))\n",
    "plt.imshow(blurred, 'gray')\n",
    "plt.show()"
   ]
  }
 ],
 "metadata": {
  "kernelspec": {
   "display_name": "Python 3",
   "language": "python",
   "name": "python3"
  },
  "language_info": {
   "codemirror_mode": {
    "name": "ipython",
    "version": 3
   },
   "file_extension": ".py",
   "mimetype": "text/x-python",
   "name": "python",
   "nbconvert_exporter": "python",
   "pygments_lexer": "ipython3",
   "version": "3.6.3"
  },
  "toc": {
   "nav_menu": {},
   "number_sections": true,
   "sideBar": true,
   "skip_h1_title": false,
   "toc_cell": false,
   "toc_position": {},
   "toc_section_display": "block",
   "toc_window_display": false
  }
 },
 "nbformat": 4,
 "nbformat_minor": 2
}
